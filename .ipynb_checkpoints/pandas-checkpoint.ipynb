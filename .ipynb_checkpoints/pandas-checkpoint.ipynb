{
 "cells": [
  {
   "cell_type": "markdown",
   "metadata": {
    "slideshow": {
     "slide_type": "slide"
    }
   },
   "source": [
    "# Pandas\n",
    "\n",
    "Pandas is an powerful Python module for data analysis. It provides a new data structure called a \"dataframe\". This is similar to the data.frame structure in R and can be treated almost like an in-memory database."
   ]
  },
  {
   "cell_type": "markdown",
   "metadata": {
    "slideshow": {
     "slide_type": "fragment"
    }
   },
   "source": [
    "## Import modules"
   ]
  },
  {
   "cell_type": "code",
   "execution_count": 2,
   "metadata": {},
   "outputs": [],
   "source": [
    "import pandas as pd\n",
    "import numpy as np"
   ]
  },
  {
   "cell_type": "markdown",
   "metadata": {
    "slideshow": {
     "slide_type": "slide"
    }
   },
   "source": [
    "# Series and Dataframes\n",
    "\n",
    "Pandas actually has two data structures, Series and Dataframes. A Dataframe is a two dimensional data structure. It is comprised of rows and columns of data. A Series is the data structure for a single column of a dataframe. Certain pandas operations will return a Series as a standalone data structure.\n",
    "\n",
    "Both data structures also have an 'index' which uniquely identifies each row. By default, Pandas will assign an integer id as the index, however you can override this and set a column of your choosing as the index (does not have to be an integer) as long as all values in that column are unique."
   ]
  },
  {
   "cell_type": "markdown",
   "metadata": {},
   "source": [
    "## Series\n",
    "\n",
    "Series can only ever have 1 column (plus an index)."
   ]
  },
  {
   "cell_type": "code",
   "execution_count": 3,
   "metadata": {
    "slideshow": {
     "slide_type": "slide"
    }
   },
   "outputs": [
    {
     "data": {
      "text/plain": [
       "0    0.923559\n",
       "1    0.755091\n",
       "2    0.716001\n",
       "3    0.005724\n",
       "4    0.249445\n",
       "dtype: float64"
      ]
     },
     "execution_count": 3,
     "metadata": {},
     "output_type": "execute_result"
    }
   ],
   "source": [
    "data = np.random.rand(5)\n",
    "pd.Series(data)"
   ]
  },
  {
   "cell_type": "code",
   "execution_count": 6,
   "metadata": {
    "slideshow": {
     "slide_type": "fragment"
    }
   },
   "outputs": [
    {
     "data": {
      "text/plain": [
       "Astronomy    0.923559\n",
       "Geology      0.755091\n",
       "Economics    0.716001\n",
       "English      0.005724\n",
       "History      0.249445\n",
       "dtype: float64"
      ]
     },
     "execution_count": 6,
     "metadata": {},
     "output_type": "execute_result"
    }
   ],
   "source": [
    "pd.Series(data, index = ['Astronomy', 'Geology', 'Economics', 'English', 'History'])"
   ]
  },
  {
   "cell_type": "markdown",
   "metadata": {
    "slideshow": {
     "slide_type": "slide"
    }
   },
   "source": [
    "## Dataframe"
   ]
  },
  {
   "cell_type": "code",
   "execution_count": 7,
   "metadata": {},
   "outputs": [
    {
     "data": {
      "text/html": [
       "<div>\n",
       "<style scoped>\n",
       "    .dataframe tbody tr th:only-of-type {\n",
       "        vertical-align: middle;\n",
       "    }\n",
       "\n",
       "    .dataframe tbody tr th {\n",
       "        vertical-align: top;\n",
       "    }\n",
       "\n",
       "    .dataframe thead th {\n",
       "        text-align: right;\n",
       "    }\n",
       "</style>\n",
       "<table border=\"1\" class=\"dataframe\">\n",
       "  <thead>\n",
       "    <tr style=\"text-align: right;\">\n",
       "      <th></th>\n",
       "      <th>Score</th>\n",
       "    </tr>\n",
       "  </thead>\n",
       "  <tbody>\n",
       "    <tr>\n",
       "      <th>Astronomy</th>\n",
       "      <td>0.923559</td>\n",
       "    </tr>\n",
       "    <tr>\n",
       "      <th>Geology</th>\n",
       "      <td>0.755091</td>\n",
       "    </tr>\n",
       "    <tr>\n",
       "      <th>Economics</th>\n",
       "      <td>0.716001</td>\n",
       "    </tr>\n",
       "    <tr>\n",
       "      <th>English</th>\n",
       "      <td>0.005724</td>\n",
       "    </tr>\n",
       "    <tr>\n",
       "      <th>History</th>\n",
       "      <td>0.249445</td>\n",
       "    </tr>\n",
       "  </tbody>\n",
       "</table>\n",
       "</div>"
      ],
      "text/plain": [
       "              Score\n",
       "Astronomy  0.923559\n",
       "Geology    0.755091\n",
       "Economics  0.716001\n",
       "English    0.005724\n",
       "History    0.249445"
      ]
     },
     "execution_count": 7,
     "metadata": {},
     "output_type": "execute_result"
    }
   ],
   "source": [
    "pd.DataFrame(data, columns = ['Score'], index = ['Astronomy', 'Geology', 'Economics', 'English', 'History'])"
   ]
  },
  {
   "cell_type": "markdown",
   "metadata": {
    "slideshow": {
     "slide_type": "slide"
    }
   },
   "source": [
    "# How to Create a Dataframe\n",
    "\n",
    "There are numerous ways to create a Dataframe, including reading directly from a database."
   ]
  },
  {
   "cell_type": "markdown",
   "metadata": {
    "slideshow": {
     "slide_type": "slide"
    }
   },
   "source": [
    "## Create DataFrame from Numpy Array"
   ]
  },
  {
   "cell_type": "code",
   "execution_count": 8,
   "metadata": {},
   "outputs": [
    {
     "data": {
      "text/plain": [
       "array([[3.30000e-01, 4.87900e+03, 3.70000e+00, 8.80000e+01],\n",
       "       [4.87000e+00, 1.21040e+04, 8.90000e+00, 2.24700e+02],\n",
       "       [5.97000e+00, 1.27560e+04, 9.80000e+00, 3.65200e+02],\n",
       "       [6.42000e-01, 6.79200e+03, 3.70000e+00, 6.87000e+02],\n",
       "       [1.89800e+03, 1.42984e+05, 2.31000e+01, 4.33100e+03],\n",
       "       [5.68000e+02, 1.20536e+05, 9.00000e+00, 1.07470e+04],\n",
       "       [8.68000e+01, 5.11180e+04, 8.70000e+00, 3.05890e+04],\n",
       "       [1.02000e+02, 4.95280e+04, 1.10000e+01, 5.98000e+04]])"
      ]
     },
     "execution_count": 8,
     "metadata": {},
     "output_type": "execute_result"
    }
   ],
   "source": [
    "planets_data = np.array([[0.330, 4879, 3.7, 88.0],\n",
    "            [4.87, 12104, 8.9, 224.7],\n",
    "            [5.97, 12756, 9.8, 365.2 ],\n",
    "            [0.642, 6792, 3.7, 687.0],\n",
    "            [1898, 142984, 23.1, 4331],\n",
    "            [568, 120536, 9.0, 10747],\n",
    "            [86.8, 51118, 8.7, 30589],\n",
    "            [102, 49528, 11.0, 59800]])\n",
    "planets_data"
   ]
  },
  {
   "cell_type": "code",
   "execution_count": 9,
   "metadata": {},
   "outputs": [
    {
     "data": {
      "text/plain": [
       "(8, 4)"
      ]
     },
     "execution_count": 9,
     "metadata": {},
     "output_type": "execute_result"
    }
   ],
   "source": [
    "planets_data.shape"
   ]
  },
  {
   "cell_type": "code",
   "execution_count": 10,
   "metadata": {
    "slideshow": {
     "slide_type": "slide"
    }
   },
   "outputs": [
    {
     "data": {
      "text/html": [
       "<div>\n",
       "<style scoped>\n",
       "    .dataframe tbody tr th:only-of-type {\n",
       "        vertical-align: middle;\n",
       "    }\n",
       "\n",
       "    .dataframe tbody tr th {\n",
       "        vertical-align: top;\n",
       "    }\n",
       "\n",
       "    .dataframe thead th {\n",
       "        text-align: right;\n",
       "    }\n",
       "</style>\n",
       "<table border=\"1\" class=\"dataframe\">\n",
       "  <thead>\n",
       "    <tr style=\"text-align: right;\">\n",
       "      <th></th>\n",
       "      <th>mass</th>\n",
       "      <th>diameter</th>\n",
       "      <th>gravity</th>\n",
       "      <th>period</th>\n",
       "    </tr>\n",
       "  </thead>\n",
       "  <tbody>\n",
       "    <tr>\n",
       "      <th>Mercury</th>\n",
       "      <td>0.330</td>\n",
       "      <td>4879.0</td>\n",
       "      <td>3.7</td>\n",
       "      <td>88.0</td>\n",
       "    </tr>\n",
       "    <tr>\n",
       "      <th>Venus</th>\n",
       "      <td>4.870</td>\n",
       "      <td>12104.0</td>\n",
       "      <td>8.9</td>\n",
       "      <td>224.7</td>\n",
       "    </tr>\n",
       "    <tr>\n",
       "      <th>Earth</th>\n",
       "      <td>5.970</td>\n",
       "      <td>12756.0</td>\n",
       "      <td>9.8</td>\n",
       "      <td>365.2</td>\n",
       "    </tr>\n",
       "    <tr>\n",
       "      <th>Mars</th>\n",
       "      <td>0.642</td>\n",
       "      <td>6792.0</td>\n",
       "      <td>3.7</td>\n",
       "      <td>687.0</td>\n",
       "    </tr>\n",
       "    <tr>\n",
       "      <th>Jupiter</th>\n",
       "      <td>1898.000</td>\n",
       "      <td>142984.0</td>\n",
       "      <td>23.1</td>\n",
       "      <td>4331.0</td>\n",
       "    </tr>\n",
       "    <tr>\n",
       "      <th>Saturn</th>\n",
       "      <td>568.000</td>\n",
       "      <td>120536.0</td>\n",
       "      <td>9.0</td>\n",
       "      <td>10747.0</td>\n",
       "    </tr>\n",
       "    <tr>\n",
       "      <th>Uranus</th>\n",
       "      <td>86.800</td>\n",
       "      <td>51118.0</td>\n",
       "      <td>8.7</td>\n",
       "      <td>30589.0</td>\n",
       "    </tr>\n",
       "    <tr>\n",
       "      <th>Neptune</th>\n",
       "      <td>102.000</td>\n",
       "      <td>49528.0</td>\n",
       "      <td>11.0</td>\n",
       "      <td>59800.0</td>\n",
       "    </tr>\n",
       "  </tbody>\n",
       "</table>\n",
       "</div>"
      ],
      "text/plain": [
       "             mass  diameter  gravity   period\n",
       "Mercury     0.330    4879.0      3.7     88.0\n",
       "Venus       4.870   12104.0      8.9    224.7\n",
       "Earth       5.970   12756.0      9.8    365.2\n",
       "Mars        0.642    6792.0      3.7    687.0\n",
       "Jupiter  1898.000  142984.0     23.1   4331.0\n",
       "Saturn    568.000  120536.0      9.0  10747.0\n",
       "Uranus     86.800   51118.0      8.7  30589.0\n",
       "Neptune   102.000   49528.0     11.0  59800.0"
      ]
     },
     "execution_count": 10,
     "metadata": {},
     "output_type": "execute_result"
    }
   ],
   "source": [
    "planets = pd.DataFrame(planets_data, \n",
    "                  columns=['mass', 'diameter', 'gravity', 'period'],\n",
    "                  index=['Mercury', 'Venus', 'Earth', 'Mars', 'Jupiter', 'Saturn','Uranus','Neptune'])\n",
    "planets"
   ]
  },
  {
   "cell_type": "markdown",
   "metadata": {
    "slideshow": {
     "slide_type": "slide"
    }
   },
   "source": [
    "## Create DataFrame from List of Tuples (or Lists)"
   ]
  },
  {
   "cell_type": "code",
   "execution_count": null,
   "metadata": {},
   "outputs": [],
   "source": [
    "array/list: [1, 3, 4]\n",
    "dictionary: {'a': 1, 'b': 3}\n",
    "tuple: (a, c, 1)"
   ]
  },
  {
   "cell_type": "code",
   "execution_count": 11,
   "metadata": {},
   "outputs": [
    {
     "data": {
      "text/plain": [
       "[('Ceres', 2.77),\n",
       " ('Pluto', 39.26),\n",
       " ('Haumea', 43.13),\n",
       " ('Makemake', 45.79),\n",
       " ('Eris', 68.01)]"
      ]
     },
     "execution_count": 11,
     "metadata": {},
     "output_type": "execute_result"
    }
   ],
   "source": [
    "names = ['Ceres', 'Pluto', 'Haumea', 'Makemake', 'Eris']\n",
    "distance = [2.77, 39.26, 43.13, 45.79, 68.01] #in AU\n",
    "dwarf_planets = list(zip(names, distance))\n",
    "dwarf_planets"
   ]
  },
  {
   "cell_type": "code",
   "execution_count": 12,
   "metadata": {},
   "outputs": [
    {
     "data": {
      "text/plain": [
       "<zip at 0x7fa08ca35460>"
      ]
     },
     "execution_count": 12,
     "metadata": {},
     "output_type": "execute_result"
    }
   ],
   "source": [
    "zip(names, distance)"
   ]
  },
  {
   "cell_type": "code",
   "execution_count": 13,
   "metadata": {
    "slideshow": {
     "slide_type": "slide"
    }
   },
   "outputs": [
    {
     "data": {
      "text/html": [
       "<div>\n",
       "<style scoped>\n",
       "    .dataframe tbody tr th:only-of-type {\n",
       "        vertical-align: middle;\n",
       "    }\n",
       "\n",
       "    .dataframe tbody tr th {\n",
       "        vertical-align: top;\n",
       "    }\n",
       "\n",
       "    .dataframe thead th {\n",
       "        text-align: right;\n",
       "    }\n",
       "</style>\n",
       "<table border=\"1\" class=\"dataframe\">\n",
       "  <thead>\n",
       "    <tr style=\"text-align: right;\">\n",
       "      <th></th>\n",
       "      <th>name</th>\n",
       "      <th>distance</th>\n",
       "    </tr>\n",
       "  </thead>\n",
       "  <tbody>\n",
       "    <tr>\n",
       "      <th>0</th>\n",
       "      <td>Ceres</td>\n",
       "      <td>2.77</td>\n",
       "    </tr>\n",
       "    <tr>\n",
       "      <th>1</th>\n",
       "      <td>Pluto</td>\n",
       "      <td>39.26</td>\n",
       "    </tr>\n",
       "    <tr>\n",
       "      <th>2</th>\n",
       "      <td>Haumea</td>\n",
       "      <td>43.13</td>\n",
       "    </tr>\n",
       "    <tr>\n",
       "      <th>3</th>\n",
       "      <td>Makemake</td>\n",
       "      <td>45.79</td>\n",
       "    </tr>\n",
       "    <tr>\n",
       "      <th>4</th>\n",
       "      <td>Eris</td>\n",
       "      <td>68.01</td>\n",
       "    </tr>\n",
       "  </tbody>\n",
       "</table>\n",
       "</div>"
      ],
      "text/plain": [
       "       name  distance\n",
       "0     Ceres      2.77\n",
       "1     Pluto     39.26\n",
       "2    Haumea     43.13\n",
       "3  Makemake     45.79\n",
       "4      Eris     68.01"
      ]
     },
     "execution_count": 13,
     "metadata": {},
     "output_type": "execute_result"
    }
   ],
   "source": [
    "dp = pd.DataFrame(data=dwarf_planets, columns=['name', 'distance'])\n",
    "dp.set_index('name')\n",
    "dp"
   ]
  },
  {
   "cell_type": "markdown",
   "metadata": {
    "slideshow": {
     "slide_type": "slide"
    }
   },
   "source": [
    "## Creating Data Frame from dictionary"
   ]
  },
  {
   "cell_type": "code",
   "execution_count": 15,
   "metadata": {
    "slideshow": {
     "slide_type": "-"
    }
   },
   "outputs": [
    {
     "data": {
      "text/html": [
       "<div>\n",
       "<style scoped>\n",
       "    .dataframe tbody tr th:only-of-type {\n",
       "        vertical-align: middle;\n",
       "    }\n",
       "\n",
       "    .dataframe tbody tr th {\n",
       "        vertical-align: top;\n",
       "    }\n",
       "\n",
       "    .dataframe thead th {\n",
       "        text-align: right;\n",
       "    }\n",
       "</style>\n",
       "<table border=\"1\" class=\"dataframe\">\n",
       "  <thead>\n",
       "    <tr style=\"text-align: right;\">\n",
       "      <th></th>\n",
       "      <th>diameter</th>\n",
       "      <th>mass</th>\n",
       "    </tr>\n",
       "  </thead>\n",
       "  <tbody>\n",
       "    <tr>\n",
       "      <th>Callisto</th>\n",
       "      <td>4821</td>\n",
       "      <td>107.6</td>\n",
       "    </tr>\n",
       "    <tr>\n",
       "      <th>Ganymede</th>\n",
       "      <td>5262</td>\n",
       "      <td>148.2</td>\n",
       "    </tr>\n",
       "    <tr>\n",
       "      <th>Europa</th>\n",
       "      <td>3122</td>\n",
       "      <td>48.0</td>\n",
       "    </tr>\n",
       "    <tr>\n",
       "      <th>Io</th>\n",
       "      <td>3643</td>\n",
       "      <td>89.3</td>\n",
       "    </tr>\n",
       "  </tbody>\n",
       "</table>\n",
       "</div>"
      ],
      "text/plain": [
       "          diameter   mass\n",
       "Callisto      4821  107.6\n",
       "Ganymede      5262  148.2\n",
       "Europa        3122   48.0\n",
       "Io            3643   89.3"
      ]
     },
     "execution_count": 15,
     "metadata": {},
     "output_type": "execute_result"
    }
   ],
   "source": [
    "moons = pd.DataFrame({'diameter':[4821, 5262, 3122, 3643],\n",
    "                  'mass':[107.6, 148.2, 48.0, 89.3]},\n",
    "                   index=['Callisto','Ganymede','Europa','Io'])\n",
    "moons"
   ]
  },
  {
   "cell_type": "markdown",
   "metadata": {
    "slideshow": {
     "slide_type": "slide"
    }
   },
   "source": [
    "## Read Data from a CSV"
   ]
  },
  {
   "cell_type": "code",
   "execution_count": 18,
   "metadata": {
    "slideshow": {
     "slide_type": "-"
    }
   },
   "outputs": [
    {
     "data": {
      "text/html": [
       "<div>\n",
       "<style scoped>\n",
       "    .dataframe tbody tr th:only-of-type {\n",
       "        vertical-align: middle;\n",
       "    }\n",
       "\n",
       "    .dataframe tbody tr th {\n",
       "        vertical-align: top;\n",
       "    }\n",
       "\n",
       "    .dataframe thead th {\n",
       "        text-align: right;\n",
       "    }\n",
       "</style>\n",
       "<table border=\"1\" class=\"dataframe\">\n",
       "  <thead>\n",
       "    <tr style=\"text-align: right;\">\n",
       "      <th></th>\n",
       "      <th>Type</th>\n",
       "      <th>Order from Sun</th>\n",
       "      <th>Diameter</th>\n",
       "      <th>Mass</th>\n",
       "    </tr>\n",
       "    <tr>\n",
       "      <th>Name</th>\n",
       "      <th></th>\n",
       "      <th></th>\n",
       "      <th></th>\n",
       "      <th></th>\n",
       "    </tr>\n",
       "  </thead>\n",
       "  <tbody>\n",
       "    <tr>\n",
       "      <th>Sun</th>\n",
       "      <td>Star</td>\n",
       "      <td>0</td>\n",
       "      <td>1392000.0</td>\n",
       "      <td>333000.00000</td>\n",
       "    </tr>\n",
       "    <tr>\n",
       "      <th>Mercury</th>\n",
       "      <td>Terrestrial planet</td>\n",
       "      <td>1</td>\n",
       "      <td>4878.0</td>\n",
       "      <td>0.05500</td>\n",
       "    </tr>\n",
       "    <tr>\n",
       "      <th>Venus</th>\n",
       "      <td>Terrestrial planet</td>\n",
       "      <td>2</td>\n",
       "      <td>12104.0</td>\n",
       "      <td>0.81500</td>\n",
       "    </tr>\n",
       "    <tr>\n",
       "      <th>Earth</th>\n",
       "      <td>Terrestrial planet</td>\n",
       "      <td>3</td>\n",
       "      <td>12756.0</td>\n",
       "      <td>1.00000</td>\n",
       "    </tr>\n",
       "    <tr>\n",
       "      <th>Mars</th>\n",
       "      <td>Terrestrial planet</td>\n",
       "      <td>4</td>\n",
       "      <td>6787.0</td>\n",
       "      <td>0.10700</td>\n",
       "    </tr>\n",
       "    <tr>\n",
       "      <th>Jupiter</th>\n",
       "      <td>Gas giant</td>\n",
       "      <td>6</td>\n",
       "      <td>142800.0</td>\n",
       "      <td>318.00000</td>\n",
       "    </tr>\n",
       "    <tr>\n",
       "      <th>Saturn</th>\n",
       "      <td>Gas giant</td>\n",
       "      <td>7</td>\n",
       "      <td>120000.0</td>\n",
       "      <td>95.00000</td>\n",
       "    </tr>\n",
       "    <tr>\n",
       "      <th>Uranus</th>\n",
       "      <td>Gas giant</td>\n",
       "      <td>8</td>\n",
       "      <td>51118.0</td>\n",
       "      <td>15.00000</td>\n",
       "    </tr>\n",
       "    <tr>\n",
       "      <th>Neptune</th>\n",
       "      <td>Gas giant</td>\n",
       "      <td>9</td>\n",
       "      <td>49528.0</td>\n",
       "      <td>17.00000</td>\n",
       "    </tr>\n",
       "    <tr>\n",
       "      <th>Ceres</th>\n",
       "      <td>Dwarf planet</td>\n",
       "      <td>5</td>\n",
       "      <td>974.6</td>\n",
       "      <td>0.00016</td>\n",
       "    </tr>\n",
       "    <tr>\n",
       "      <th>Pluto</th>\n",
       "      <td>Dwarf planet</td>\n",
       "      <td>10</td>\n",
       "      <td>2300.0</td>\n",
       "      <td>0.00200</td>\n",
       "    </tr>\n",
       "    <tr>\n",
       "      <th>Haumea</th>\n",
       "      <td>Dwarf planet</td>\n",
       "      <td>11</td>\n",
       "      <td>1300.0</td>\n",
       "      <td>0.00070</td>\n",
       "    </tr>\n",
       "    <tr>\n",
       "      <th>Makemake</th>\n",
       "      <td>Dwarf planet</td>\n",
       "      <td>12</td>\n",
       "      <td>1420.0</td>\n",
       "      <td>0.00067</td>\n",
       "    </tr>\n",
       "    <tr>\n",
       "      <th>Eris</th>\n",
       "      <td>Dwarf planet</td>\n",
       "      <td>13</td>\n",
       "      <td>2326.0</td>\n",
       "      <td>0.00280</td>\n",
       "    </tr>\n",
       "  </tbody>\n",
       "</table>\n",
       "</div>"
      ],
      "text/plain": [
       "                        Type  Order from Sun   Diameter          Mass\n",
       "Name                                                                 \n",
       "Sun                     Star               0  1392000.0  333000.00000\n",
       "Mercury   Terrestrial planet               1     4878.0       0.05500\n",
       "Venus     Terrestrial planet               2    12104.0       0.81500\n",
       "Earth     Terrestrial planet               3    12756.0       1.00000\n",
       "Mars      Terrestrial planet               4     6787.0       0.10700\n",
       "Jupiter            Gas giant               6   142800.0     318.00000\n",
       "Saturn             Gas giant               7   120000.0      95.00000\n",
       "Uranus             Gas giant               8    51118.0      15.00000\n",
       "Neptune            Gas giant               9    49528.0      17.00000\n",
       "Ceres           Dwarf planet               5      974.6       0.00016\n",
       "Pluto           Dwarf planet              10     2300.0       0.00200\n",
       "Haumea          Dwarf planet              11     1300.0       0.00070\n",
       "Makemake        Dwarf planet              12     1420.0       0.00067\n",
       "Eris            Dwarf planet              13     2326.0       0.00280"
      ]
     },
     "execution_count": 18,
     "metadata": {},
     "output_type": "execute_result"
    }
   ],
   "source": [
    "solar_system = pd.read_csv('solar_system_abbr.csv', index_col=0)\n",
    "solar_system"
   ]
  },
  {
   "cell_type": "markdown",
   "metadata": {
    "slideshow": {
     "slide_type": "slide"
    }
   },
   "source": [
    "## Get information about Data Frame"
   ]
  },
  {
   "cell_type": "code",
   "execution_count": 19,
   "metadata": {
    "slideshow": {
     "slide_type": "fragment"
    }
   },
   "outputs": [
    {
     "data": {
      "text/plain": [
       "(14, 4)"
      ]
     },
     "execution_count": 19,
     "metadata": {},
     "output_type": "execute_result"
    }
   ],
   "source": [
    "solar_system.shape"
   ]
  },
  {
   "cell_type": "code",
   "execution_count": 13,
   "metadata": {
    "slideshow": {
     "slide_type": "fragment"
    }
   },
   "outputs": [
    {
     "data": {
      "text/plain": [
       "Type               object\n",
       "Order from Sun      int64\n",
       "Diameter          float64\n",
       "Mass              float64\n",
       "dtype: object"
      ]
     },
     "execution_count": 13,
     "metadata": {},
     "output_type": "execute_result"
    }
   ],
   "source": [
    "solar_system.dtypes"
   ]
  },
  {
   "cell_type": "code",
   "execution_count": 14,
   "metadata": {
    "slideshow": {
     "slide_type": "fragment"
    }
   },
   "outputs": [
    {
     "data": {
      "text/html": [
       "<div>\n",
       "<style scoped>\n",
       "    .dataframe tbody tr th:only-of-type {\n",
       "        vertical-align: middle;\n",
       "    }\n",
       "\n",
       "    .dataframe tbody tr th {\n",
       "        vertical-align: top;\n",
       "    }\n",
       "\n",
       "    .dataframe thead th {\n",
       "        text-align: right;\n",
       "    }\n",
       "</style>\n",
       "<table border=\"1\" class=\"dataframe\">\n",
       "  <thead>\n",
       "    <tr style=\"text-align: right;\">\n",
       "      <th></th>\n",
       "      <th>Order from Sun</th>\n",
       "      <th>Diameter</th>\n",
       "      <th>Mass</th>\n",
       "    </tr>\n",
       "  </thead>\n",
       "  <tbody>\n",
       "    <tr>\n",
       "      <td>count</td>\n",
       "      <td>14.0000</td>\n",
       "      <td>1.400000e+01</td>\n",
       "      <td>14.000000</td>\n",
       "    </tr>\n",
       "    <tr>\n",
       "      <td>mean</td>\n",
       "      <td>6.5000</td>\n",
       "      <td>1.285923e+05</td>\n",
       "      <td>23817.641666</td>\n",
       "    </tr>\n",
       "    <tr>\n",
       "      <td>std</td>\n",
       "      <td>4.1833</td>\n",
       "      <td>3.665235e+05</td>\n",
       "      <td>88988.845412</td>\n",
       "    </tr>\n",
       "    <tr>\n",
       "      <td>min</td>\n",
       "      <td>0.0000</td>\n",
       "      <td>9.746000e+02</td>\n",
       "      <td>0.000160</td>\n",
       "    </tr>\n",
       "    <tr>\n",
       "      <td>25%</td>\n",
       "      <td>3.2500</td>\n",
       "      <td>2.306500e+03</td>\n",
       "      <td>0.002200</td>\n",
       "    </tr>\n",
       "    <tr>\n",
       "      <td>50%</td>\n",
       "      <td>6.5000</td>\n",
       "      <td>9.445500e+03</td>\n",
       "      <td>0.461000</td>\n",
       "    </tr>\n",
       "    <tr>\n",
       "      <td>75%</td>\n",
       "      <td>9.7500</td>\n",
       "      <td>5.072050e+04</td>\n",
       "      <td>16.500000</td>\n",
       "    </tr>\n",
       "    <tr>\n",
       "      <td>max</td>\n",
       "      <td>13.0000</td>\n",
       "      <td>1.392000e+06</td>\n",
       "      <td>333000.000000</td>\n",
       "    </tr>\n",
       "  </tbody>\n",
       "</table>\n",
       "</div>"
      ],
      "text/plain": [
       "       Order from Sun      Diameter           Mass\n",
       "count         14.0000  1.400000e+01      14.000000\n",
       "mean           6.5000  1.285923e+05   23817.641666\n",
       "std            4.1833  3.665235e+05   88988.845412\n",
       "min            0.0000  9.746000e+02       0.000160\n",
       "25%            3.2500  2.306500e+03       0.002200\n",
       "50%            6.5000  9.445500e+03       0.461000\n",
       "75%            9.7500  5.072050e+04      16.500000\n",
       "max           13.0000  1.392000e+06  333000.000000"
      ]
     },
     "execution_count": 14,
     "metadata": {},
     "output_type": "execute_result"
    }
   ],
   "source": [
    "solar_system.describe()"
   ]
  },
  {
   "cell_type": "code",
   "execution_count": 21,
   "metadata": {
    "scrolled": true
   },
   "outputs": [
    {
     "data": {
      "text/plain": [
       "Dwarf planet          5\n",
       "Gas giant             4\n",
       "Terrestrial planet    4\n",
       "Star                  1\n",
       "Name: Type, dtype: int64"
      ]
     },
     "execution_count": 21,
     "metadata": {},
     "output_type": "execute_result"
    }
   ],
   "source": [
    "solar_system['Type'].value_counts()"
   ]
  },
  {
   "cell_type": "markdown",
   "metadata": {
    "slideshow": {
     "slide_type": "slide"
    }
   },
   "source": [
    "## Accessing data in Dataframes"
   ]
  },
  {
   "cell_type": "markdown",
   "metadata": {
    "slideshow": {
     "slide_type": "-"
    }
   },
   "source": [
    "There are multiple ways to access data in dataframes. Each method has its own strengths for different use cases."
   ]
  },
  {
   "cell_type": "markdown",
   "metadata": {
    "slideshow": {
     "slide_type": "slide"
    }
   },
   "source": [
    "## `.iloc[x,y]`\n",
    "\n",
    "Use `iloc` to access data based on its location in the dataframe. This is the most similar method to access data in a list or numpy array."
   ]
  },
  {
   "cell_type": "code",
   "execution_count": 22,
   "metadata": {
    "slideshow": {
     "slide_type": "fragment"
    }
   },
   "outputs": [
    {
     "data": {
      "text/plain": [
       "9.0"
      ]
     },
     "execution_count": 22,
     "metadata": {},
     "output_type": "execute_result"
    }
   ],
   "source": [
    "# Get element 5,2\n",
    "planets.iloc[5,2]"
   ]
  },
  {
   "cell_type": "code",
   "execution_count": 23,
   "metadata": {
    "slideshow": {
     "slide_type": "fragment"
    }
   },
   "outputs": [
    {
     "data": {
      "text/plain": [
       "Mercury       0.330\n",
       "Venus         4.870\n",
       "Earth         5.970\n",
       "Mars          0.642\n",
       "Jupiter    1898.000\n",
       "Saturn      568.000\n",
       "Uranus       86.800\n",
       "Neptune     102.000\n",
       "Name: mass, dtype: float64"
      ]
     },
     "execution_count": 23,
     "metadata": {},
     "output_type": "execute_result"
    }
   ],
   "source": [
    "# Get column 0\n",
    "planets.iloc[:,0]"
   ]
  },
  {
   "cell_type": "code",
   "execution_count": 24,
   "metadata": {
    "slideshow": {
     "slide_type": "fragment"
    }
   },
   "outputs": [
    {
     "data": {
      "text/html": [
       "<div>\n",
       "<style scoped>\n",
       "    .dataframe tbody tr th:only-of-type {\n",
       "        vertical-align: middle;\n",
       "    }\n",
       "\n",
       "    .dataframe tbody tr th {\n",
       "        vertical-align: top;\n",
       "    }\n",
       "\n",
       "    .dataframe thead th {\n",
       "        text-align: right;\n",
       "    }\n",
       "</style>\n",
       "<table border=\"1\" class=\"dataframe\">\n",
       "  <thead>\n",
       "    <tr style=\"text-align: right;\">\n",
       "      <th></th>\n",
       "      <th>mass</th>\n",
       "      <th>diameter</th>\n",
       "      <th>gravity</th>\n",
       "    </tr>\n",
       "  </thead>\n",
       "  <tbody>\n",
       "    <tr>\n",
       "      <th>Mercury</th>\n",
       "      <td>0.330</td>\n",
       "      <td>4879.0</td>\n",
       "      <td>3.7</td>\n",
       "    </tr>\n",
       "    <tr>\n",
       "      <th>Venus</th>\n",
       "      <td>4.870</td>\n",
       "      <td>12104.0</td>\n",
       "      <td>8.9</td>\n",
       "    </tr>\n",
       "    <tr>\n",
       "      <th>Earth</th>\n",
       "      <td>5.970</td>\n",
       "      <td>12756.0</td>\n",
       "      <td>9.8</td>\n",
       "    </tr>\n",
       "    <tr>\n",
       "      <th>Mars</th>\n",
       "      <td>0.642</td>\n",
       "      <td>6792.0</td>\n",
       "      <td>3.7</td>\n",
       "    </tr>\n",
       "    <tr>\n",
       "      <th>Jupiter</th>\n",
       "      <td>1898.000</td>\n",
       "      <td>142984.0</td>\n",
       "      <td>23.1</td>\n",
       "    </tr>\n",
       "    <tr>\n",
       "      <th>Saturn</th>\n",
       "      <td>568.000</td>\n",
       "      <td>120536.0</td>\n",
       "      <td>9.0</td>\n",
       "    </tr>\n",
       "    <tr>\n",
       "      <th>Uranus</th>\n",
       "      <td>86.800</td>\n",
       "      <td>51118.0</td>\n",
       "      <td>8.7</td>\n",
       "    </tr>\n",
       "    <tr>\n",
       "      <th>Neptune</th>\n",
       "      <td>102.000</td>\n",
       "      <td>49528.0</td>\n",
       "      <td>11.0</td>\n",
       "    </tr>\n",
       "  </tbody>\n",
       "</table>\n",
       "</div>"
      ],
      "text/plain": [
       "             mass  diameter  gravity\n",
       "Mercury     0.330    4879.0      3.7\n",
       "Venus       4.870   12104.0      8.9\n",
       "Earth       5.970   12756.0      9.8\n",
       "Mars        0.642    6792.0      3.7\n",
       "Jupiter  1898.000  142984.0     23.1\n",
       "Saturn    568.000  120536.0      9.0\n",
       "Uranus     86.800   51118.0      8.7\n",
       "Neptune   102.000   49528.0     11.0"
      ]
     },
     "execution_count": 24,
     "metadata": {},
     "output_type": "execute_result"
    }
   ],
   "source": [
    "# Get columns 0 thru 2\n",
    "planets.iloc[:,0:3]"
   ]
  },
  {
   "cell_type": "code",
   "execution_count": 25,
   "metadata": {
    "slideshow": {
     "slide_type": "slide"
    }
   },
   "outputs": [
    {
     "data": {
      "text/plain": [
       "mass          1898.0\n",
       "diameter    142984.0\n",
       "gravity         23.1\n",
       "period        4331.0\n",
       "Name: Jupiter, dtype: float64"
      ]
     },
     "execution_count": 25,
     "metadata": {},
     "output_type": "execute_result"
    }
   ],
   "source": [
    "# Get row 4\n",
    "planets.iloc[4,:]"
   ]
  },
  {
   "cell_type": "code",
   "execution_count": 19,
   "metadata": {
    "slideshow": {
     "slide_type": "fragment"
    }
   },
   "outputs": [
    {
     "data": {
      "text/html": [
       "<div>\n",
       "<style scoped>\n",
       "    .dataframe tbody tr th:only-of-type {\n",
       "        vertical-align: middle;\n",
       "    }\n",
       "\n",
       "    .dataframe tbody tr th {\n",
       "        vertical-align: top;\n",
       "    }\n",
       "\n",
       "    .dataframe thead th {\n",
       "        text-align: right;\n",
       "    }\n",
       "</style>\n",
       "<table border=\"1\" class=\"dataframe\">\n",
       "  <thead>\n",
       "    <tr style=\"text-align: right;\">\n",
       "      <th></th>\n",
       "      <th>mass</th>\n",
       "      <th>diameter</th>\n",
       "      <th>gravity</th>\n",
       "      <th>period</th>\n",
       "    </tr>\n",
       "  </thead>\n",
       "  <tbody>\n",
       "    <tr>\n",
       "      <td>Earth</td>\n",
       "      <td>5.970</td>\n",
       "      <td>12756.0</td>\n",
       "      <td>9.8</td>\n",
       "      <td>365.2</td>\n",
       "    </tr>\n",
       "    <tr>\n",
       "      <td>Mars</td>\n",
       "      <td>0.642</td>\n",
       "      <td>6792.0</td>\n",
       "      <td>3.7</td>\n",
       "      <td>687.0</td>\n",
       "    </tr>\n",
       "    <tr>\n",
       "      <td>Jupiter</td>\n",
       "      <td>1898.000</td>\n",
       "      <td>142984.0</td>\n",
       "      <td>23.1</td>\n",
       "      <td>4331.0</td>\n",
       "    </tr>\n",
       "    <tr>\n",
       "      <td>Saturn</td>\n",
       "      <td>568.000</td>\n",
       "      <td>120536.0</td>\n",
       "      <td>9.0</td>\n",
       "      <td>10747.0</td>\n",
       "    </tr>\n",
       "  </tbody>\n",
       "</table>\n",
       "</div>"
      ],
      "text/plain": [
       "             mass  diameter  gravity   period\n",
       "Earth       5.970   12756.0      9.8    365.2\n",
       "Mars        0.642    6792.0      3.7    687.0\n",
       "Jupiter  1898.000  142984.0     23.1   4331.0\n",
       "Saturn    568.000  120536.0      9.0  10747.0"
      ]
     },
     "execution_count": 19,
     "metadata": {},
     "output_type": "execute_result"
    }
   ],
   "source": [
    "# Get rows 2 thru 6\n",
    "planets.iloc[2:6,:]"
   ]
  },
  {
   "cell_type": "code",
   "execution_count": 20,
   "metadata": {
    "slideshow": {
     "slide_type": "fragment"
    }
   },
   "outputs": [
    {
     "data": {
      "text/html": [
       "<div>\n",
       "<style scoped>\n",
       "    .dataframe tbody tr th:only-of-type {\n",
       "        vertical-align: middle;\n",
       "    }\n",
       "\n",
       "    .dataframe tbody tr th {\n",
       "        vertical-align: top;\n",
       "    }\n",
       "\n",
       "    .dataframe thead th {\n",
       "        text-align: right;\n",
       "    }\n",
       "</style>\n",
       "<table border=\"1\" class=\"dataframe\">\n",
       "  <thead>\n",
       "    <tr style=\"text-align: right;\">\n",
       "      <th></th>\n",
       "      <th>mass</th>\n",
       "      <th>diameter</th>\n",
       "      <th>gravity</th>\n",
       "      <th>period</th>\n",
       "    </tr>\n",
       "  </thead>\n",
       "  <tbody>\n",
       "    <tr>\n",
       "      <td>Mercury</td>\n",
       "      <td>0.33</td>\n",
       "      <td>4879.0</td>\n",
       "      <td>3.7</td>\n",
       "      <td>88.0</td>\n",
       "    </tr>\n",
       "    <tr>\n",
       "      <td>Earth</td>\n",
       "      <td>5.97</td>\n",
       "      <td>12756.0</td>\n",
       "      <td>9.8</td>\n",
       "      <td>365.2</td>\n",
       "    </tr>\n",
       "  </tbody>\n",
       "</table>\n",
       "</div>"
      ],
      "text/plain": [
       "         mass  diameter  gravity  period\n",
       "Mercury  0.33    4879.0      3.7    88.0\n",
       "Earth    5.97   12756.0      9.8   365.2"
      ]
     },
     "execution_count": 20,
     "metadata": {},
     "output_type": "execute_result"
    }
   ],
   "source": [
    "# Get rows 0 and 2\n",
    "planets.iloc[[0,2],:]"
   ]
  },
  {
   "cell_type": "markdown",
   "metadata": {
    "slideshow": {
     "slide_type": "slide"
    }
   },
   "source": [
    "## .loc[x,y]\n",
    "\n",
    "Use `loc` to access data based on the labels in the dataframe. This is often a more natural way to reference certain types of tabular data, such as when both the rows and columns are have meaningful labels."
   ]
  },
  {
   "cell_type": "code",
   "execution_count": 21,
   "metadata": {
    "slideshow": {
     "slide_type": "fragment"
    }
   },
   "outputs": [
    {
     "data": {
      "text/plain": [
       "568.0"
      ]
     },
     "execution_count": 21,
     "metadata": {},
     "output_type": "execute_result"
    }
   ],
   "source": [
    "planets.loc['Saturn','mass']"
   ]
  },
  {
   "cell_type": "code",
   "execution_count": 22,
   "metadata": {
    "slideshow": {
     "slide_type": "fragment"
    }
   },
   "outputs": [
    {
     "data": {
      "text/html": [
       "<div>\n",
       "<style scoped>\n",
       "    .dataframe tbody tr th:only-of-type {\n",
       "        vertical-align: middle;\n",
       "    }\n",
       "\n",
       "    .dataframe tbody tr th {\n",
       "        vertical-align: top;\n",
       "    }\n",
       "\n",
       "    .dataframe thead th {\n",
       "        text-align: right;\n",
       "    }\n",
       "</style>\n",
       "<table border=\"1\" class=\"dataframe\">\n",
       "  <thead>\n",
       "    <tr style=\"text-align: right;\">\n",
       "      <th></th>\n",
       "      <th>mass</th>\n",
       "      <th>diameter</th>\n",
       "      <th>gravity</th>\n",
       "    </tr>\n",
       "  </thead>\n",
       "  <tbody>\n",
       "    <tr>\n",
       "      <td>Mercury</td>\n",
       "      <td>0.330</td>\n",
       "      <td>4879.0</td>\n",
       "      <td>3.7</td>\n",
       "    </tr>\n",
       "    <tr>\n",
       "      <td>Venus</td>\n",
       "      <td>4.870</td>\n",
       "      <td>12104.0</td>\n",
       "      <td>8.9</td>\n",
       "    </tr>\n",
       "    <tr>\n",
       "      <td>Earth</td>\n",
       "      <td>5.970</td>\n",
       "      <td>12756.0</td>\n",
       "      <td>9.8</td>\n",
       "    </tr>\n",
       "    <tr>\n",
       "      <td>Mars</td>\n",
       "      <td>0.642</td>\n",
       "      <td>6792.0</td>\n",
       "      <td>3.7</td>\n",
       "    </tr>\n",
       "    <tr>\n",
       "      <td>Jupiter</td>\n",
       "      <td>1898.000</td>\n",
       "      <td>142984.0</td>\n",
       "      <td>23.1</td>\n",
       "    </tr>\n",
       "    <tr>\n",
       "      <td>Saturn</td>\n",
       "      <td>568.000</td>\n",
       "      <td>120536.0</td>\n",
       "      <td>9.0</td>\n",
       "    </tr>\n",
       "    <tr>\n",
       "      <td>Uranus</td>\n",
       "      <td>86.800</td>\n",
       "      <td>51118.0</td>\n",
       "      <td>8.7</td>\n",
       "    </tr>\n",
       "    <tr>\n",
       "      <td>Neptune</td>\n",
       "      <td>102.000</td>\n",
       "      <td>49528.0</td>\n",
       "      <td>11.0</td>\n",
       "    </tr>\n",
       "  </tbody>\n",
       "</table>\n",
       "</div>"
      ],
      "text/plain": [
       "             mass  diameter  gravity\n",
       "Mercury     0.330    4879.0      3.7\n",
       "Venus       4.870   12104.0      8.9\n",
       "Earth       5.970   12756.0      9.8\n",
       "Mars        0.642    6792.0      3.7\n",
       "Jupiter  1898.000  142984.0     23.1\n",
       "Saturn    568.000  120536.0      9.0\n",
       "Uranus     86.800   51118.0      8.7\n",
       "Neptune   102.000   49528.0     11.0"
      ]
     },
     "execution_count": 22,
     "metadata": {},
     "output_type": "execute_result"
    }
   ],
   "source": [
    "planets.loc[:,'mass':'gravity']"
   ]
  },
  {
   "cell_type": "code",
   "execution_count": 23,
   "metadata": {
    "slideshow": {
     "slide_type": "fragment"
    }
   },
   "outputs": [
    {
     "data": {
      "text/plain": [
       "Mercury       0.330\n",
       "Venus         4.870\n",
       "Earth         5.970\n",
       "Mars          0.642\n",
       "Jupiter    1898.000\n",
       "Saturn      568.000\n",
       "Uranus       86.800\n",
       "Neptune     102.000\n",
       "Name: mass, dtype: float64"
      ]
     },
     "execution_count": 23,
     "metadata": {},
     "output_type": "execute_result"
    }
   ],
   "source": [
    "planets['mass']"
   ]
  },
  {
   "cell_type": "code",
   "execution_count": 24,
   "metadata": {
    "slideshow": {
     "slide_type": "slide"
    }
   },
   "outputs": [
    {
     "data": {
      "text/html": [
       "<div>\n",
       "<style scoped>\n",
       "    .dataframe tbody tr th:only-of-type {\n",
       "        vertical-align: middle;\n",
       "    }\n",
       "\n",
       "    .dataframe tbody tr th {\n",
       "        vertical-align: top;\n",
       "    }\n",
       "\n",
       "    .dataframe thead th {\n",
       "        text-align: right;\n",
       "    }\n",
       "</style>\n",
       "<table border=\"1\" class=\"dataframe\">\n",
       "  <thead>\n",
       "    <tr style=\"text-align: right;\">\n",
       "      <th></th>\n",
       "      <th>mass</th>\n",
       "      <th>period</th>\n",
       "    </tr>\n",
       "  </thead>\n",
       "  <tbody>\n",
       "    <tr>\n",
       "      <td>Mercury</td>\n",
       "      <td>0.330</td>\n",
       "      <td>88.0</td>\n",
       "    </tr>\n",
       "    <tr>\n",
       "      <td>Venus</td>\n",
       "      <td>4.870</td>\n",
       "      <td>224.7</td>\n",
       "    </tr>\n",
       "    <tr>\n",
       "      <td>Earth</td>\n",
       "      <td>5.970</td>\n",
       "      <td>365.2</td>\n",
       "    </tr>\n",
       "    <tr>\n",
       "      <td>Mars</td>\n",
       "      <td>0.642</td>\n",
       "      <td>687.0</td>\n",
       "    </tr>\n",
       "    <tr>\n",
       "      <td>Jupiter</td>\n",
       "      <td>1898.000</td>\n",
       "      <td>4331.0</td>\n",
       "    </tr>\n",
       "    <tr>\n",
       "      <td>Saturn</td>\n",
       "      <td>568.000</td>\n",
       "      <td>10747.0</td>\n",
       "    </tr>\n",
       "    <tr>\n",
       "      <td>Uranus</td>\n",
       "      <td>86.800</td>\n",
       "      <td>30589.0</td>\n",
       "    </tr>\n",
       "    <tr>\n",
       "      <td>Neptune</td>\n",
       "      <td>102.000</td>\n",
       "      <td>59800.0</td>\n",
       "    </tr>\n",
       "  </tbody>\n",
       "</table>\n",
       "</div>"
      ],
      "text/plain": [
       "             mass   period\n",
       "Mercury     0.330     88.0\n",
       "Venus       4.870    224.7\n",
       "Earth       5.970    365.2\n",
       "Mars        0.642    687.0\n",
       "Jupiter  1898.000   4331.0\n",
       "Saturn    568.000  10747.0\n",
       "Uranus     86.800  30589.0\n",
       "Neptune   102.000  59800.0"
      ]
     },
     "execution_count": 24,
     "metadata": {},
     "output_type": "execute_result"
    }
   ],
   "source": [
    "planets.loc[:,['mass','period']]"
   ]
  },
  {
   "cell_type": "code",
   "execution_count": 26,
   "metadata": {
    "slideshow": {
     "slide_type": "fragment"
    }
   },
   "outputs": [
    {
     "data": {
      "text/plain": [
       "mass          1898.0\n",
       "diameter    142984.0\n",
       "gravity         23.1\n",
       "period        4331.0\n",
       "Name: Jupiter, dtype: float64"
      ]
     },
     "execution_count": 26,
     "metadata": {},
     "output_type": "execute_result"
    }
   ],
   "source": [
    "planets.loc['Jupiter',:]"
   ]
  },
  {
   "cell_type": "code",
   "execution_count": 25,
   "metadata": {
    "slideshow": {
     "slide_type": "fragment"
    }
   },
   "outputs": [
    {
     "data": {
      "text/html": [
       "<div>\n",
       "<table border=\"1\" class=\"dataframe\">\n",
       "  <thead>\n",
       "    <tr style=\"text-align: right;\">\n",
       "      <th></th>\n",
       "      <th>mass</th>\n",
       "      <th>diameter</th>\n",
       "      <th>gravity</th>\n",
       "      <th>period</th>\n",
       "    </tr>\n",
       "  </thead>\n",
       "  <tbody>\n",
       "    <tr>\n",
       "      <th>Earth</th>\n",
       "      <td>5.970</td>\n",
       "      <td>12756.0</td>\n",
       "      <td>9.8</td>\n",
       "      <td>365.2</td>\n",
       "    </tr>\n",
       "    <tr>\n",
       "      <th>Mars</th>\n",
       "      <td>0.642</td>\n",
       "      <td>6792.0</td>\n",
       "      <td>3.7</td>\n",
       "      <td>687.0</td>\n",
       "    </tr>\n",
       "    <tr>\n",
       "      <th>Jupiter</th>\n",
       "      <td>1898.000</td>\n",
       "      <td>142984.0</td>\n",
       "      <td>23.1</td>\n",
       "      <td>4331.0</td>\n",
       "    </tr>\n",
       "    <tr>\n",
       "      <th>Saturn</th>\n",
       "      <td>568.000</td>\n",
       "      <td>120536.0</td>\n",
       "      <td>9.0</td>\n",
       "      <td>10747.0</td>\n",
       "    </tr>\n",
       "  </tbody>\n",
       "</table>\n",
       "</div>"
      ],
      "text/plain": [
       "             mass  diameter  gravity   period\n",
       "Earth       5.970   12756.0      9.8    365.2\n",
       "Mars        0.642    6792.0      3.7    687.0\n",
       "Jupiter  1898.000  142984.0     23.1   4331.0\n",
       "Saturn    568.000  120536.0      9.0  10747.0"
      ]
     },
     "execution_count": 25,
     "metadata": {},
     "output_type": "execute_result"
    }
   ],
   "source": [
    "planets.loc['Earth':'Saturn',:]"
   ]
  },
  {
   "cell_type": "code",
   "execution_count": 26,
   "metadata": {
    "slideshow": {
     "slide_type": "fragment"
    }
   },
   "outputs": [
    {
     "data": {
      "text/html": [
       "<div>\n",
       "<table border=\"1\" class=\"dataframe\">\n",
       "  <thead>\n",
       "    <tr style=\"text-align: right;\">\n",
       "      <th></th>\n",
       "      <th>mass</th>\n",
       "      <th>diameter</th>\n",
       "      <th>gravity</th>\n",
       "      <th>period</th>\n",
       "    </tr>\n",
       "  </thead>\n",
       "  <tbody>\n",
       "    <tr>\n",
       "      <th>Mercury</th>\n",
       "      <td>0.33</td>\n",
       "      <td>4879.0</td>\n",
       "      <td>3.7</td>\n",
       "      <td>88.0</td>\n",
       "    </tr>\n",
       "    <tr>\n",
       "      <th>Earth</th>\n",
       "      <td>5.97</td>\n",
       "      <td>12756.0</td>\n",
       "      <td>9.8</td>\n",
       "      <td>365.2</td>\n",
       "    </tr>\n",
       "  </tbody>\n",
       "</table>\n",
       "</div>"
      ],
      "text/plain": [
       "         mass  diameter  gravity  period\n",
       "Mercury  0.33    4879.0      3.7    88.0\n",
       "Earth    5.97   12756.0      9.8   365.2"
      ]
     },
     "execution_count": 26,
     "metadata": {},
     "output_type": "execute_result"
    }
   ],
   "source": [
    "planets.loc[['Mercury','Earth'],:]"
   ]
  },
  {
   "cell_type": "markdown",
   "metadata": {
    "slideshow": {
     "slide_type": "slide"
    }
   },
   "source": [
    "## Modifying data in Data Frames\n",
    "\n",
    "Individual elements or slices in a dataframe can be modified using the above access methods."
   ]
  },
  {
   "cell_type": "code",
   "execution_count": 27,
   "metadata": {
    "slideshow": {
     "slide_type": "fragment"
    }
   },
   "outputs": [
    {
     "data": {
      "text/plain": [
       "100.0"
      ]
     },
     "execution_count": 27,
     "metadata": {},
     "output_type": "execute_result"
    }
   ],
   "source": [
    "m = np.random.rand(5,3)\n",
    "df = pd.DataFrame(m, \n",
    "                  columns=['a', 'b', 'c'],\n",
    "                  index=['A','B','C','D','E'])\n",
    "\n",
    "# Set element 0, 0\n",
    "df.iloc[2,1] = 100.0\n",
    "df.iloc[2,1]"
   ]
  },
  {
   "cell_type": "code",
   "execution_count": 28,
   "metadata": {
    "slideshow": {
     "slide_type": "slide"
    }
   },
   "outputs": [
    {
     "data": {
      "text/plain": [
       "200.0"
      ]
     },
     "execution_count": 28,
     "metadata": {},
     "output_type": "execute_result"
    }
   ],
   "source": [
    "df.loc['A','a'] = 200.0\n",
    "df.iloc[0,0]"
   ]
  },
  {
   "cell_type": "code",
   "execution_count": 29,
   "metadata": {
    "slideshow": {
     "slide_type": "fragment"
    }
   },
   "outputs": [
    {
     "data": {
      "text/html": [
       "<div>\n",
       "<table border=\"1\" class=\"dataframe\">\n",
       "  <thead>\n",
       "    <tr style=\"text-align: right;\">\n",
       "      <th></th>\n",
       "      <th>a</th>\n",
       "      <th>b</th>\n",
       "      <th>c</th>\n",
       "    </tr>\n",
       "  </thead>\n",
       "  <tbody>\n",
       "    <tr>\n",
       "      <th>A</th>\n",
       "      <td>0.0</td>\n",
       "      <td>0.712986</td>\n",
       "      <td>0.283673</td>\n",
       "    </tr>\n",
       "    <tr>\n",
       "      <th>B</th>\n",
       "      <td>1.0</td>\n",
       "      <td>0.332245</td>\n",
       "      <td>0.016079</td>\n",
       "    </tr>\n",
       "    <tr>\n",
       "      <th>C</th>\n",
       "      <td>2.0</td>\n",
       "      <td>100.000000</td>\n",
       "      <td>0.445675</td>\n",
       "    </tr>\n",
       "    <tr>\n",
       "      <th>D</th>\n",
       "      <td>3.0</td>\n",
       "      <td>0.612177</td>\n",
       "      <td>0.793030</td>\n",
       "    </tr>\n",
       "    <tr>\n",
       "      <th>E</th>\n",
       "      <td>4.0</td>\n",
       "      <td>0.038487</td>\n",
       "      <td>0.883765</td>\n",
       "    </tr>\n",
       "  </tbody>\n",
       "</table>\n",
       "</div>"
      ],
      "text/plain": [
       "     a           b         c\n",
       "A  0.0    0.712986  0.283673\n",
       "B  1.0    0.332245  0.016079\n",
       "C  2.0  100.000000  0.445675\n",
       "D  3.0    0.612177  0.793030\n",
       "E  4.0    0.038487  0.883765"
      ]
     },
     "execution_count": 29,
     "metadata": {},
     "output_type": "execute_result"
    }
   ],
   "source": [
    "# Set column 0 using 1D-array\n",
    "df.iloc[:,0] = np.arange(5, dtype=np.float64)\n",
    "df"
   ]
  },
  {
   "cell_type": "code",
   "execution_count": 30,
   "metadata": {
    "slideshow": {
     "slide_type": "slide"
    }
   },
   "outputs": [
    {
     "data": {
      "text/html": [
       "<div>\n",
       "<table border=\"1\" class=\"dataframe\">\n",
       "  <thead>\n",
       "    <tr style=\"text-align: right;\">\n",
       "      <th></th>\n",
       "      <th>a</th>\n",
       "      <th>b</th>\n",
       "      <th>c</th>\n",
       "    </tr>\n",
       "  </thead>\n",
       "  <tbody>\n",
       "    <tr>\n",
       "      <th>A</th>\n",
       "      <td>0.0</td>\n",
       "      <td>200.0</td>\n",
       "      <td>0.283673</td>\n",
       "    </tr>\n",
       "    <tr>\n",
       "      <th>B</th>\n",
       "      <td>1.0</td>\n",
       "      <td>200.0</td>\n",
       "      <td>0.016079</td>\n",
       "    </tr>\n",
       "    <tr>\n",
       "      <th>C</th>\n",
       "      <td>2.0</td>\n",
       "      <td>200.0</td>\n",
       "      <td>0.445675</td>\n",
       "    </tr>\n",
       "    <tr>\n",
       "      <th>D</th>\n",
       "      <td>3.0</td>\n",
       "      <td>200.0</td>\n",
       "      <td>0.793030</td>\n",
       "    </tr>\n",
       "    <tr>\n",
       "      <th>E</th>\n",
       "      <td>4.0</td>\n",
       "      <td>200.0</td>\n",
       "      <td>0.883765</td>\n",
       "    </tr>\n",
       "  </tbody>\n",
       "</table>\n",
       "</div>"
      ],
      "text/plain": [
       "     a      b         c\n",
       "A  0.0  200.0  0.283673\n",
       "B  1.0  200.0  0.016079\n",
       "C  2.0  200.0  0.445675\n",
       "D  3.0  200.0  0.793030\n",
       "E  4.0  200.0  0.883765"
      ]
     },
     "execution_count": 30,
     "metadata": {},
     "output_type": "execute_result"
    }
   ],
   "source": [
    "# Set column 1 using scalar\n",
    "df.iloc[:,1] = 200.0\n",
    "df"
   ]
  },
  {
   "cell_type": "markdown",
   "metadata": {
    "slideshow": {
     "slide_type": "slide"
    }
   },
   "source": [
    "# Math with Dataframes\n",
    "\n",
    "You can do math using whole. columns and rows of data frames, similar to numpy."
   ]
  },
  {
   "cell_type": "code",
   "execution_count": 29,
   "metadata": {},
   "outputs": [
    {
     "data": {
      "text/plain": [
       "Callisto    5.866918e+10\n",
       "Ganymede    7.628711e+10\n",
       "Europa      1.593299e+10\n",
       "Io          2.531490e+10\n",
       "Name: diameter, dtype: float64"
      ]
     },
     "execution_count": 29,
     "metadata": {},
     "output_type": "execute_result"
    }
   ],
   "source": [
    "import math\n",
    "(4/3)*math.pi*(moons['diameter']/2)**3"
   ]
  },
  {
   "cell_type": "markdown",
   "metadata": {
    "slideshow": {
     "slide_type": "slide"
    }
   },
   "source": [
    "You can even add a new column to the dataframe with the derived quantity"
   ]
  },
  {
   "cell_type": "code",
   "execution_count": 30,
   "metadata": {},
   "outputs": [
    {
     "data": {
      "text/html": [
       "<div>\n",
       "<style scoped>\n",
       "    .dataframe tbody tr th:only-of-type {\n",
       "        vertical-align: middle;\n",
       "    }\n",
       "\n",
       "    .dataframe tbody tr th {\n",
       "        vertical-align: top;\n",
       "    }\n",
       "\n",
       "    .dataframe thead th {\n",
       "        text-align: right;\n",
       "    }\n",
       "</style>\n",
       "<table border=\"1\" class=\"dataframe\">\n",
       "  <thead>\n",
       "    <tr style=\"text-align: right;\">\n",
       "      <th></th>\n",
       "      <th>diameter</th>\n",
       "      <th>mass</th>\n",
       "      <th>volume</th>\n",
       "    </tr>\n",
       "  </thead>\n",
       "  <tbody>\n",
       "    <tr>\n",
       "      <td>Callisto</td>\n",
       "      <td>4821</td>\n",
       "      <td>107.6</td>\n",
       "      <td>5.866918e+10</td>\n",
       "    </tr>\n",
       "    <tr>\n",
       "      <td>Ganymede</td>\n",
       "      <td>5262</td>\n",
       "      <td>148.2</td>\n",
       "      <td>7.628711e+10</td>\n",
       "    </tr>\n",
       "    <tr>\n",
       "      <td>Europa</td>\n",
       "      <td>3122</td>\n",
       "      <td>48.0</td>\n",
       "      <td>1.593299e+10</td>\n",
       "    </tr>\n",
       "    <tr>\n",
       "      <td>Io</td>\n",
       "      <td>3643</td>\n",
       "      <td>89.3</td>\n",
       "      <td>2.531490e+10</td>\n",
       "    </tr>\n",
       "  </tbody>\n",
       "</table>\n",
       "</div>"
      ],
      "text/plain": [
       "          diameter   mass        volume\n",
       "Callisto      4821  107.6  5.866918e+10\n",
       "Ganymede      5262  148.2  7.628711e+10\n",
       "Europa        3122   48.0  1.593299e+10\n",
       "Io            3643   89.3  2.531490e+10"
      ]
     },
     "execution_count": 30,
     "metadata": {},
     "output_type": "execute_result"
    }
   ],
   "source": [
    "moons['volume'] = (4/3)*math.pi*(moons['diameter']/2)**3\n",
    "moons"
   ]
  },
  {
   "cell_type": "markdown",
   "metadata": {
    "slideshow": {
     "slide_type": "slide"
    }
   },
   "source": [
    "You can do also math using two or more columns to derive a new column."
   ]
  },
  {
   "cell_type": "code",
   "execution_count": 31,
   "metadata": {},
   "outputs": [
    {
     "data": {
      "text/html": [
       "<div>\n",
       "<style scoped>\n",
       "    .dataframe tbody tr th:only-of-type {\n",
       "        vertical-align: middle;\n",
       "    }\n",
       "\n",
       "    .dataframe tbody tr th {\n",
       "        vertical-align: top;\n",
       "    }\n",
       "\n",
       "    .dataframe thead th {\n",
       "        text-align: right;\n",
       "    }\n",
       "</style>\n",
       "<table border=\"1\" class=\"dataframe\">\n",
       "  <thead>\n",
       "    <tr style=\"text-align: right;\">\n",
       "      <th></th>\n",
       "      <th>diameter</th>\n",
       "      <th>mass</th>\n",
       "      <th>volume</th>\n",
       "      <th>density</th>\n",
       "    </tr>\n",
       "  </thead>\n",
       "  <tbody>\n",
       "    <tr>\n",
       "      <td>Callisto</td>\n",
       "      <td>4821</td>\n",
       "      <td>107.6</td>\n",
       "      <td>5.866918e+10</td>\n",
       "      <td>1.834012e-09</td>\n",
       "    </tr>\n",
       "    <tr>\n",
       "      <td>Ganymede</td>\n",
       "      <td>5262</td>\n",
       "      <td>148.2</td>\n",
       "      <td>7.628711e+10</td>\n",
       "      <td>1.942661e-09</td>\n",
       "    </tr>\n",
       "    <tr>\n",
       "      <td>Europa</td>\n",
       "      <td>3122</td>\n",
       "      <td>48.0</td>\n",
       "      <td>1.593299e+10</td>\n",
       "      <td>3.012617e-09</td>\n",
       "    </tr>\n",
       "    <tr>\n",
       "      <td>Io</td>\n",
       "      <td>3643</td>\n",
       "      <td>89.3</td>\n",
       "      <td>2.531490e+10</td>\n",
       "      <td>3.527567e-09</td>\n",
       "    </tr>\n",
       "  </tbody>\n",
       "</table>\n",
       "</div>"
      ],
      "text/plain": [
       "          diameter   mass        volume       density\n",
       "Callisto      4821  107.6  5.866918e+10  1.834012e-09\n",
       "Ganymede      5262  148.2  7.628711e+10  1.942661e-09\n",
       "Europa        3122   48.0  1.593299e+10  3.012617e-09\n",
       "Io            3643   89.3  2.531490e+10  3.527567e-09"
      ]
     },
     "execution_count": 31,
     "metadata": {},
     "output_type": "execute_result"
    }
   ],
   "source": [
    "moons['density'] = moons['mass']/moons['volume']\n",
    "moons"
   ]
  },
  {
   "cell_type": "markdown",
   "metadata": {
    "slideshow": {
     "slide_type": "slide"
    }
   },
   "source": [
    "# Grouping data and Aggregation\n",
    "\n",
    "One of the most powerful uses for dataframes is to reorganize your data into groups and perform data aggregations."
   ]
  },
  {
   "cell_type": "code",
   "execution_count": 32,
   "metadata": {
    "slideshow": {
     "slide_type": "fragment"
    }
   },
   "outputs": [
    {
     "data": {
      "text/plain": [
       "<pandas.core.groupby.generic.DataFrameGroupBy object at 0x11f62b630>"
      ]
     },
     "execution_count": 32,
     "metadata": {},
     "output_type": "execute_result"
    }
   ],
   "source": [
    "bodies_by_type = solar_system.groupby('Type')\n",
    "bodies_by_type"
   ]
  },
  {
   "cell_type": "markdown",
   "metadata": {
    "slideshow": {
     "slide_type": "fragment"
    }
   },
   "source": [
    "When you call groupby(), it creates a 'GroupBy' objects. At this stage, no actual computation has been performed yet to 'split' your data. The successful create of the objects is just a validation of the groupby operation you have requested."
   ]
  },
  {
   "cell_type": "markdown",
   "metadata": {
    "slideshow": {
     "slide_type": "slide"
    }
   },
   "source": [
    "You can access each of the groups by name to see what is in them"
   ]
  },
  {
   "cell_type": "code",
   "execution_count": 33,
   "metadata": {
    "slideshow": {
     "slide_type": "fragment"
    }
   },
   "outputs": [
    {
     "data": {
      "text/html": [
       "<div>\n",
       "<style scoped>\n",
       "    .dataframe tbody tr th:only-of-type {\n",
       "        vertical-align: middle;\n",
       "    }\n",
       "\n",
       "    .dataframe tbody tr th {\n",
       "        vertical-align: top;\n",
       "    }\n",
       "\n",
       "    .dataframe thead th {\n",
       "        text-align: right;\n",
       "    }\n",
       "</style>\n",
       "<table border=\"1\" class=\"dataframe\">\n",
       "  <thead>\n",
       "    <tr style=\"text-align: right;\">\n",
       "      <th></th>\n",
       "      <th>Type</th>\n",
       "      <th>Order from Sun</th>\n",
       "      <th>Diameter</th>\n",
       "      <th>Mass</th>\n",
       "    </tr>\n",
       "    <tr>\n",
       "      <th>Name</th>\n",
       "      <th></th>\n",
       "      <th></th>\n",
       "      <th></th>\n",
       "      <th></th>\n",
       "    </tr>\n",
       "  </thead>\n",
       "  <tbody>\n",
       "    <tr>\n",
       "      <td>Jupiter</td>\n",
       "      <td>Gas giant</td>\n",
       "      <td>6</td>\n",
       "      <td>142800.0</td>\n",
       "      <td>318.0</td>\n",
       "    </tr>\n",
       "    <tr>\n",
       "      <td>Saturn</td>\n",
       "      <td>Gas giant</td>\n",
       "      <td>7</td>\n",
       "      <td>120000.0</td>\n",
       "      <td>95.0</td>\n",
       "    </tr>\n",
       "    <tr>\n",
       "      <td>Uranus</td>\n",
       "      <td>Gas giant</td>\n",
       "      <td>8</td>\n",
       "      <td>51118.0</td>\n",
       "      <td>15.0</td>\n",
       "    </tr>\n",
       "    <tr>\n",
       "      <td>Neptune</td>\n",
       "      <td>Gas giant</td>\n",
       "      <td>9</td>\n",
       "      <td>49528.0</td>\n",
       "      <td>17.0</td>\n",
       "    </tr>\n",
       "  </tbody>\n",
       "</table>\n",
       "</div>"
      ],
      "text/plain": [
       "              Type  Order from Sun  Diameter   Mass\n",
       "Name                                               \n",
       "Jupiter  Gas giant               6  142800.0  318.0\n",
       "Saturn   Gas giant               7  120000.0   95.0\n",
       "Uranus   Gas giant               8   51118.0   15.0\n",
       "Neptune  Gas giant               9   49528.0   17.0"
      ]
     },
     "execution_count": 33,
     "metadata": {},
     "output_type": "execute_result"
    }
   ],
   "source": [
    "bodies_by_type.get_group('Gas giant')"
   ]
  },
  {
   "cell_type": "markdown",
   "metadata": {
    "slideshow": {
     "slide_type": "slide"
    }
   },
   "source": [
    "We can perform some aggregations, such as sum, median or mean."
   ]
  },
  {
   "cell_type": "code",
   "execution_count": 34,
   "metadata": {
    "slideshow": {
     "slide_type": "fragment"
    }
   },
   "outputs": [
    {
     "data": {
      "text/html": [
       "<div>\n",
       "<style scoped>\n",
       "    .dataframe tbody tr th:only-of-type {\n",
       "        vertical-align: middle;\n",
       "    }\n",
       "\n",
       "    .dataframe tbody tr th {\n",
       "        vertical-align: top;\n",
       "    }\n",
       "\n",
       "    .dataframe thead th {\n",
       "        text-align: right;\n",
       "    }\n",
       "</style>\n",
       "<table border=\"1\" class=\"dataframe\">\n",
       "  <thead>\n",
       "    <tr style=\"text-align: right;\">\n",
       "      <th></th>\n",
       "      <th>Order from Sun</th>\n",
       "      <th>Diameter</th>\n",
       "      <th>Mass</th>\n",
       "    </tr>\n",
       "    <tr>\n",
       "      <th>Type</th>\n",
       "      <th></th>\n",
       "      <th></th>\n",
       "      <th></th>\n",
       "    </tr>\n",
       "  </thead>\n",
       "  <tbody>\n",
       "    <tr>\n",
       "      <td>Dwarf planet</td>\n",
       "      <td>51</td>\n",
       "      <td>8320.6</td>\n",
       "      <td>0.00633</td>\n",
       "    </tr>\n",
       "    <tr>\n",
       "      <td>Gas giant</td>\n",
       "      <td>30</td>\n",
       "      <td>363446.0</td>\n",
       "      <td>445.00000</td>\n",
       "    </tr>\n",
       "    <tr>\n",
       "      <td>Star</td>\n",
       "      <td>0</td>\n",
       "      <td>1392000.0</td>\n",
       "      <td>333000.00000</td>\n",
       "    </tr>\n",
       "    <tr>\n",
       "      <td>Terrestrial planet</td>\n",
       "      <td>10</td>\n",
       "      <td>36525.0</td>\n",
       "      <td>1.97700</td>\n",
       "    </tr>\n",
       "  </tbody>\n",
       "</table>\n",
       "</div>"
      ],
      "text/plain": [
       "                    Order from Sun   Diameter          Mass\n",
       "Type                                                       \n",
       "Dwarf planet                    51     8320.6       0.00633\n",
       "Gas giant                       30   363446.0     445.00000\n",
       "Star                             0  1392000.0  333000.00000\n",
       "Terrestrial planet              10    36525.0       1.97700"
      ]
     },
     "execution_count": 34,
     "metadata": {},
     "output_type": "execute_result"
    }
   ],
   "source": [
    "bodies_by_type.sum()"
   ]
  },
  {
   "cell_type": "markdown",
   "metadata": {
    "slideshow": {
     "slide_type": "fragment"
    }
   },
   "source": [
    "You can use tab completion to see all the aggregation methods available."
   ]
  },
  {
   "cell_type": "code",
   "execution_count": 37,
   "metadata": {},
   "outputs": [
    {
     "data": {
      "text/html": [
       "<div>\n",
       "<table border=\"1\" class=\"dataframe\">\n",
       "  <thead>\n",
       "    <tr style=\"text-align: right;\">\n",
       "      <th></th>\n",
       "      <th>Order from Sun</th>\n",
       "      <th>Diameter</th>\n",
       "      <th>Mass</th>\n",
       "    </tr>\n",
       "    <tr>\n",
       "      <th>Type</th>\n",
       "      <th></th>\n",
       "      <th></th>\n",
       "      <th></th>\n",
       "    </tr>\n",
       "  </thead>\n",
       "  <tbody>\n",
       "    <tr>\n",
       "      <th>Dwarf planet</th>\n",
       "      <td>13</td>\n",
       "      <td>2326.0</td>\n",
       "      <td>0.0028</td>\n",
       "    </tr>\n",
       "    <tr>\n",
       "      <th>Gas giant</th>\n",
       "      <td>9</td>\n",
       "      <td>142800.0</td>\n",
       "      <td>318.0000</td>\n",
       "    </tr>\n",
       "    <tr>\n",
       "      <th>Star</th>\n",
       "      <td>0</td>\n",
       "      <td>1392000.0</td>\n",
       "      <td>333000.0000</td>\n",
       "    </tr>\n",
       "    <tr>\n",
       "      <th>Terrestrial planet</th>\n",
       "      <td>4</td>\n",
       "      <td>12756.0</td>\n",
       "      <td>1.0000</td>\n",
       "    </tr>\n",
       "  </tbody>\n",
       "</table>\n",
       "</div>"
      ],
      "text/plain": [
       "                    Order from Sun   Diameter         Mass\n",
       "Type                                                      \n",
       "Dwarf planet                    13     2326.0       0.0028\n",
       "Gas giant                        9   142800.0     318.0000\n",
       "Star                             0  1392000.0  333000.0000\n",
       "Terrestrial planet               4    12756.0       1.0000"
      ]
     },
     "execution_count": 37,
     "metadata": {},
     "output_type": "execute_result"
    }
   ],
   "source": [
    "bodies_by_type.max()"
   ]
  },
  {
   "cell_type": "markdown",
   "metadata": {
    "slideshow": {
     "slide_type": "slide"
    }
   },
   "source": [
    "# Filtering a Dataframe\n",
    "\n",
    "Data in dataframes can also be filtered using boolean operations."
   ]
  },
  {
   "cell_type": "code",
   "execution_count": 38,
   "metadata": {
    "slideshow": {
     "slide_type": "fragment"
    }
   },
   "outputs": [
    {
     "data": {
      "text/html": [
       "<div>\n",
       "<table border=\"1\" class=\"dataframe\">\n",
       "  <thead>\n",
       "    <tr style=\"text-align: right;\">\n",
       "      <th></th>\n",
       "      <th>Type</th>\n",
       "      <th>Order from Sun</th>\n",
       "      <th>Diameter</th>\n",
       "      <th>Mass</th>\n",
       "    </tr>\n",
       "    <tr>\n",
       "      <th>Name</th>\n",
       "      <th></th>\n",
       "      <th></th>\n",
       "      <th></th>\n",
       "      <th></th>\n",
       "    </tr>\n",
       "  </thead>\n",
       "  <tbody>\n",
       "    <tr>\n",
       "      <th>Sun</th>\n",
       "      <td>Star</td>\n",
       "      <td>0</td>\n",
       "      <td>1392000.0</td>\n",
       "      <td>333000.0</td>\n",
       "    </tr>\n",
       "    <tr>\n",
       "      <th>Jupiter</th>\n",
       "      <td>Gas giant</td>\n",
       "      <td>6</td>\n",
       "      <td>142800.0</td>\n",
       "      <td>318.0</td>\n",
       "    </tr>\n",
       "    <tr>\n",
       "      <th>Saturn</th>\n",
       "      <td>Gas giant</td>\n",
       "      <td>7</td>\n",
       "      <td>120000.0</td>\n",
       "      <td>95.0</td>\n",
       "    </tr>\n",
       "    <tr>\n",
       "      <th>Uranus</th>\n",
       "      <td>Gas giant</td>\n",
       "      <td>8</td>\n",
       "      <td>51118.0</td>\n",
       "      <td>15.0</td>\n",
       "    </tr>\n",
       "    <tr>\n",
       "      <th>Neptune</th>\n",
       "      <td>Gas giant</td>\n",
       "      <td>9</td>\n",
       "      <td>49528.0</td>\n",
       "      <td>17.0</td>\n",
       "    </tr>\n",
       "  </tbody>\n",
       "</table>\n",
       "</div>"
      ],
      "text/plain": [
       "              Type  Order from Sun   Diameter      Mass\n",
       "Name                                                   \n",
       "Sun           Star               0  1392000.0  333000.0\n",
       "Jupiter  Gas giant               6   142800.0     318.0\n",
       "Saturn   Gas giant               7   120000.0      95.0\n",
       "Uranus   Gas giant               8    51118.0      15.0\n",
       "Neptune  Gas giant               9    49528.0      17.0"
      ]
     },
     "execution_count": 38,
     "metadata": {},
     "output_type": "execute_result"
    }
   ],
   "source": [
    "solar_system[solar_system['Mass'] > 1.0]"
   ]
  },
  {
   "cell_type": "code",
   "execution_count": 39,
   "metadata": {
    "slideshow": {
     "slide_type": "slide"
    }
   },
   "outputs": [
    {
     "data": {
      "text/html": [
       "<div>\n",
       "<table border=\"1\" class=\"dataframe\">\n",
       "  <thead>\n",
       "    <tr style=\"text-align: right;\">\n",
       "      <th></th>\n",
       "      <th>Type</th>\n",
       "      <th>Order from Sun</th>\n",
       "      <th>Diameter</th>\n",
       "      <th>Mass</th>\n",
       "    </tr>\n",
       "    <tr>\n",
       "      <th>Name</th>\n",
       "      <th></th>\n",
       "      <th></th>\n",
       "      <th></th>\n",
       "      <th></th>\n",
       "    </tr>\n",
       "  </thead>\n",
       "  <tbody>\n",
       "    <tr>\n",
       "      <th>Mercury</th>\n",
       "      <td>Terrestrial planet</td>\n",
       "      <td>1</td>\n",
       "      <td>4878.0</td>\n",
       "      <td>0.055</td>\n",
       "    </tr>\n",
       "    <tr>\n",
       "      <th>Venus</th>\n",
       "      <td>Terrestrial planet</td>\n",
       "      <td>2</td>\n",
       "      <td>12104.0</td>\n",
       "      <td>0.815</td>\n",
       "    </tr>\n",
       "    <tr>\n",
       "      <th>Earth</th>\n",
       "      <td>Terrestrial planet</td>\n",
       "      <td>3</td>\n",
       "      <td>12756.0</td>\n",
       "      <td>1.000</td>\n",
       "    </tr>\n",
       "    <tr>\n",
       "      <th>Mars</th>\n",
       "      <td>Terrestrial planet</td>\n",
       "      <td>4</td>\n",
       "      <td>6787.0</td>\n",
       "      <td>0.107</td>\n",
       "    </tr>\n",
       "  </tbody>\n",
       "</table>\n",
       "</div>"
      ],
      "text/plain": [
       "                       Type  Order from Sun  Diameter   Mass\n",
       "Name                                                        \n",
       "Mercury  Terrestrial planet               1    4878.0  0.055\n",
       "Venus    Terrestrial planet               2   12104.0  0.815\n",
       "Earth    Terrestrial planet               3   12756.0  1.000\n",
       "Mars     Terrestrial planet               4    6787.0  0.107"
      ]
     },
     "execution_count": 39,
     "metadata": {},
     "output_type": "execute_result"
    }
   ],
   "source": [
    "solar_system[solar_system['Type'] == 'Terrestrial planet']"
   ]
  },
  {
   "cell_type": "markdown",
   "metadata": {
    "slideshow": {
     "slide_type": "slide"
    }
   },
   "source": [
    "# Merges, Joins and Concatenation\n",
    "\n",
    "There are multiple methods to combine dataframes together. I'll highlight a few useful methods here, but I recommend a look at the official pandas documentation for all the possible ways to combine dataframes. \n",
    "\n",
    "https://pandas.pydata.org/pandas-docs/stable/merging.html"
   ]
  },
  {
   "cell_type": "markdown",
   "metadata": {
    "slideshow": {
     "slide_type": "slide"
    }
   },
   "source": [
    "## A Simple Append"
   ]
  },
  {
   "cell_type": "code",
   "execution_count": 40,
   "metadata": {},
   "outputs": [
    {
     "data": {
      "text/html": [
       "<div>\n",
       "<table border=\"1\" class=\"dataframe\">\n",
       "  <thead>\n",
       "    <tr style=\"text-align: right;\">\n",
       "      <th></th>\n",
       "      <th>Type</th>\n",
       "      <th>Order from Sun</th>\n",
       "      <th>Diameter</th>\n",
       "      <th>Mass</th>\n",
       "    </tr>\n",
       "    <tr>\n",
       "      <th>Name</th>\n",
       "      <th></th>\n",
       "      <th></th>\n",
       "      <th></th>\n",
       "      <th></th>\n",
       "    </tr>\n",
       "  </thead>\n",
       "  <tbody>\n",
       "    <tr>\n",
       "      <th>Sun</th>\n",
       "      <td>Star</td>\n",
       "      <td>0</td>\n",
       "      <td>1392000.0</td>\n",
       "      <td>333000.000</td>\n",
       "    </tr>\n",
       "    <tr>\n",
       "      <th>Mercury</th>\n",
       "      <td>Terrestrial planet</td>\n",
       "      <td>1</td>\n",
       "      <td>4878.0</td>\n",
       "      <td>0.055</td>\n",
       "    </tr>\n",
       "    <tr>\n",
       "      <th>Venus</th>\n",
       "      <td>Terrestrial planet</td>\n",
       "      <td>2</td>\n",
       "      <td>12104.0</td>\n",
       "      <td>0.815</td>\n",
       "    </tr>\n",
       "    <tr>\n",
       "      <th>Earth</th>\n",
       "      <td>Terrestrial planet</td>\n",
       "      <td>3</td>\n",
       "      <td>12756.0</td>\n",
       "      <td>1.000</td>\n",
       "    </tr>\n",
       "    <tr>\n",
       "      <th>Mars</th>\n",
       "      <td>Terrestrial planet</td>\n",
       "      <td>4</td>\n",
       "      <td>6787.0</td>\n",
       "      <td>0.107</td>\n",
       "    </tr>\n",
       "    <tr>\n",
       "      <th>Jupiter</th>\n",
       "      <td>Gas giant</td>\n",
       "      <td>6</td>\n",
       "      <td>142800.0</td>\n",
       "      <td>318.000</td>\n",
       "    </tr>\n",
       "    <tr>\n",
       "      <th>Saturn</th>\n",
       "      <td>Gas giant</td>\n",
       "      <td>7</td>\n",
       "      <td>120000.0</td>\n",
       "      <td>95.000</td>\n",
       "    </tr>\n",
       "    <tr>\n",
       "      <th>Uranus</th>\n",
       "      <td>Gas giant</td>\n",
       "      <td>8</td>\n",
       "      <td>51118.0</td>\n",
       "      <td>15.000</td>\n",
       "    </tr>\n",
       "    <tr>\n",
       "      <th>Neptune</th>\n",
       "      <td>Gas giant</td>\n",
       "      <td>9</td>\n",
       "      <td>49528.0</td>\n",
       "      <td>17.000</td>\n",
       "    </tr>\n",
       "  </tbody>\n",
       "</table>\n",
       "</div>"
      ],
      "text/plain": [
       "                       Type  Order from Sun   Diameter        Mass\n",
       "Name                                                              \n",
       "Sun                    Star               0  1392000.0  333000.000\n",
       "Mercury  Terrestrial planet               1     4878.0       0.055\n",
       "Venus    Terrestrial planet               2    12104.0       0.815\n",
       "Earth    Terrestrial planet               3    12756.0       1.000\n",
       "Mars     Terrestrial planet               4     6787.0       0.107\n",
       "Jupiter           Gas giant               6   142800.0     318.000\n",
       "Saturn            Gas giant               7   120000.0      95.000\n",
       "Uranus            Gas giant               8    51118.0      15.000\n",
       "Neptune           Gas giant               9    49528.0      17.000"
      ]
     },
     "execution_count": 40,
     "metadata": {},
     "output_type": "execute_result"
    }
   ],
   "source": [
    "large_bodies = solar_system[solar_system['Type'] != 'Dwarf planet']\n",
    "small_bodies = solar_system[solar_system['Type'] == 'Dwarf planet'] \n",
    "large_bodies"
   ]
  },
  {
   "cell_type": "code",
   "execution_count": 41,
   "metadata": {
    "slideshow": {
     "slide_type": "fragment"
    }
   },
   "outputs": [
    {
     "data": {
      "text/html": [
       "<div>\n",
       "<table border=\"1\" class=\"dataframe\">\n",
       "  <thead>\n",
       "    <tr style=\"text-align: right;\">\n",
       "      <th></th>\n",
       "      <th>Type</th>\n",
       "      <th>Order from Sun</th>\n",
       "      <th>Diameter</th>\n",
       "      <th>Mass</th>\n",
       "    </tr>\n",
       "    <tr>\n",
       "      <th>Name</th>\n",
       "      <th></th>\n",
       "      <th></th>\n",
       "      <th></th>\n",
       "      <th></th>\n",
       "    </tr>\n",
       "  </thead>\n",
       "  <tbody>\n",
       "    <tr>\n",
       "      <th>Sun</th>\n",
       "      <td>Star</td>\n",
       "      <td>0</td>\n",
       "      <td>1392000.0</td>\n",
       "      <td>333000.00000</td>\n",
       "    </tr>\n",
       "    <tr>\n",
       "      <th>Mercury</th>\n",
       "      <td>Terrestrial planet</td>\n",
       "      <td>1</td>\n",
       "      <td>4878.0</td>\n",
       "      <td>0.05500</td>\n",
       "    </tr>\n",
       "    <tr>\n",
       "      <th>Venus</th>\n",
       "      <td>Terrestrial planet</td>\n",
       "      <td>2</td>\n",
       "      <td>12104.0</td>\n",
       "      <td>0.81500</td>\n",
       "    </tr>\n",
       "    <tr>\n",
       "      <th>Earth</th>\n",
       "      <td>Terrestrial planet</td>\n",
       "      <td>3</td>\n",
       "      <td>12756.0</td>\n",
       "      <td>1.00000</td>\n",
       "    </tr>\n",
       "    <tr>\n",
       "      <th>Mars</th>\n",
       "      <td>Terrestrial planet</td>\n",
       "      <td>4</td>\n",
       "      <td>6787.0</td>\n",
       "      <td>0.10700</td>\n",
       "    </tr>\n",
       "    <tr>\n",
       "      <th>Jupiter</th>\n",
       "      <td>Gas giant</td>\n",
       "      <td>6</td>\n",
       "      <td>142800.0</td>\n",
       "      <td>318.00000</td>\n",
       "    </tr>\n",
       "    <tr>\n",
       "      <th>Saturn</th>\n",
       "      <td>Gas giant</td>\n",
       "      <td>7</td>\n",
       "      <td>120000.0</td>\n",
       "      <td>95.00000</td>\n",
       "    </tr>\n",
       "    <tr>\n",
       "      <th>Uranus</th>\n",
       "      <td>Gas giant</td>\n",
       "      <td>8</td>\n",
       "      <td>51118.0</td>\n",
       "      <td>15.00000</td>\n",
       "    </tr>\n",
       "    <tr>\n",
       "      <th>Neptune</th>\n",
       "      <td>Gas giant</td>\n",
       "      <td>9</td>\n",
       "      <td>49528.0</td>\n",
       "      <td>17.00000</td>\n",
       "    </tr>\n",
       "    <tr>\n",
       "      <th>Ceres</th>\n",
       "      <td>Dwarf planet</td>\n",
       "      <td>5</td>\n",
       "      <td>974.6</td>\n",
       "      <td>0.00016</td>\n",
       "    </tr>\n",
       "    <tr>\n",
       "      <th>Pluto</th>\n",
       "      <td>Dwarf planet</td>\n",
       "      <td>10</td>\n",
       "      <td>2300.0</td>\n",
       "      <td>0.00200</td>\n",
       "    </tr>\n",
       "    <tr>\n",
       "      <th>Haumea</th>\n",
       "      <td>Dwarf planet</td>\n",
       "      <td>11</td>\n",
       "      <td>1300.0</td>\n",
       "      <td>0.00070</td>\n",
       "    </tr>\n",
       "    <tr>\n",
       "      <th>Makemake</th>\n",
       "      <td>Dwarf planet</td>\n",
       "      <td>12</td>\n",
       "      <td>1420.0</td>\n",
       "      <td>0.00067</td>\n",
       "    </tr>\n",
       "    <tr>\n",
       "      <th>Eris</th>\n",
       "      <td>Dwarf planet</td>\n",
       "      <td>13</td>\n",
       "      <td>2326.0</td>\n",
       "      <td>0.00280</td>\n",
       "    </tr>\n",
       "  </tbody>\n",
       "</table>\n",
       "</div>"
      ],
      "text/plain": [
       "                        Type  Order from Sun   Diameter          Mass\n",
       "Name                                                                 \n",
       "Sun                     Star               0  1392000.0  333000.00000\n",
       "Mercury   Terrestrial planet               1     4878.0       0.05500\n",
       "Venus     Terrestrial planet               2    12104.0       0.81500\n",
       "Earth     Terrestrial planet               3    12756.0       1.00000\n",
       "Mars      Terrestrial planet               4     6787.0       0.10700\n",
       "Jupiter            Gas giant               6   142800.0     318.00000\n",
       "Saturn             Gas giant               7   120000.0      95.00000\n",
       "Uranus             Gas giant               8    51118.0      15.00000\n",
       "Neptune            Gas giant               9    49528.0      17.00000\n",
       "Ceres           Dwarf planet               5      974.6       0.00016\n",
       "Pluto           Dwarf planet              10     2300.0       0.00200\n",
       "Haumea          Dwarf planet              11     1300.0       0.00070\n",
       "Makemake        Dwarf planet              12     1420.0       0.00067\n",
       "Eris            Dwarf planet              13     2326.0       0.00280"
      ]
     },
     "execution_count": 41,
     "metadata": {},
     "output_type": "execute_result"
    }
   ],
   "source": [
    "whole_system = large_bodies.append(small_bodies)\n",
    "whole_system"
   ]
  },
  {
   "cell_type": "markdown",
   "metadata": {
    "slideshow": {
     "slide_type": "slide"
    }
   },
   "source": [
    "# Concatenation\n",
    "\n",
    "`pd.concat` is similar to append, except that the two dataframes don't have to have exactly the same columns. Columns outside the intersection will be filled with NaN values."
   ]
  },
  {
   "cell_type": "code",
   "execution_count": 42,
   "metadata": {},
   "outputs": [
    {
     "data": {
      "text/html": [
       "<div>\n",
       "<table border=\"1\" class=\"dataframe\">\n",
       "  <thead>\n",
       "    <tr style=\"text-align: right;\">\n",
       "      <th></th>\n",
       "      <th>density</th>\n",
       "      <th>diameter</th>\n",
       "      <th>gravity</th>\n",
       "      <th>mass</th>\n",
       "      <th>period</th>\n",
       "      <th>volume</th>\n",
       "    </tr>\n",
       "  </thead>\n",
       "  <tbody>\n",
       "    <tr>\n",
       "      <th>Mercury</th>\n",
       "      <td>NaN</td>\n",
       "      <td>4879.0</td>\n",
       "      <td>3.7</td>\n",
       "      <td>0.330</td>\n",
       "      <td>88.0</td>\n",
       "      <td>NaN</td>\n",
       "    </tr>\n",
       "    <tr>\n",
       "      <th>Venus</th>\n",
       "      <td>NaN</td>\n",
       "      <td>12104.0</td>\n",
       "      <td>8.9</td>\n",
       "      <td>4.870</td>\n",
       "      <td>224.7</td>\n",
       "      <td>NaN</td>\n",
       "    </tr>\n",
       "    <tr>\n",
       "      <th>Earth</th>\n",
       "      <td>NaN</td>\n",
       "      <td>12756.0</td>\n",
       "      <td>9.8</td>\n",
       "      <td>5.970</td>\n",
       "      <td>365.2</td>\n",
       "      <td>NaN</td>\n",
       "    </tr>\n",
       "    <tr>\n",
       "      <th>Mars</th>\n",
       "      <td>NaN</td>\n",
       "      <td>6792.0</td>\n",
       "      <td>3.7</td>\n",
       "      <td>0.642</td>\n",
       "      <td>687.0</td>\n",
       "      <td>NaN</td>\n",
       "    </tr>\n",
       "    <tr>\n",
       "      <th>Jupiter</th>\n",
       "      <td>NaN</td>\n",
       "      <td>142984.0</td>\n",
       "      <td>23.1</td>\n",
       "      <td>1898.000</td>\n",
       "      <td>4331.0</td>\n",
       "      <td>NaN</td>\n",
       "    </tr>\n",
       "    <tr>\n",
       "      <th>Saturn</th>\n",
       "      <td>NaN</td>\n",
       "      <td>120536.0</td>\n",
       "      <td>9.0</td>\n",
       "      <td>568.000</td>\n",
       "      <td>10747.0</td>\n",
       "      <td>NaN</td>\n",
       "    </tr>\n",
       "    <tr>\n",
       "      <th>Uranus</th>\n",
       "      <td>NaN</td>\n",
       "      <td>51118.0</td>\n",
       "      <td>8.7</td>\n",
       "      <td>86.800</td>\n",
       "      <td>30589.0</td>\n",
       "      <td>NaN</td>\n",
       "    </tr>\n",
       "    <tr>\n",
       "      <th>Neptune</th>\n",
       "      <td>NaN</td>\n",
       "      <td>49528.0</td>\n",
       "      <td>11.0</td>\n",
       "      <td>102.000</td>\n",
       "      <td>59800.0</td>\n",
       "      <td>NaN</td>\n",
       "    </tr>\n",
       "    <tr>\n",
       "      <th>Callisto</th>\n",
       "      <td>2.445350e-09</td>\n",
       "      <td>4821.0</td>\n",
       "      <td>NaN</td>\n",
       "      <td>107.600</td>\n",
       "      <td>NaN</td>\n",
       "      <td>4.400188e+10</td>\n",
       "    </tr>\n",
       "    <tr>\n",
       "      <th>Ganymede</th>\n",
       "      <td>2.590215e-09</td>\n",
       "      <td>5262.0</td>\n",
       "      <td>NaN</td>\n",
       "      <td>148.200</td>\n",
       "      <td>NaN</td>\n",
       "      <td>5.721533e+10</td>\n",
       "    </tr>\n",
       "    <tr>\n",
       "      <th>Europa</th>\n",
       "      <td>4.016823e-09</td>\n",
       "      <td>3122.0</td>\n",
       "      <td>NaN</td>\n",
       "      <td>48.000</td>\n",
       "      <td>NaN</td>\n",
       "      <td>1.194974e+10</td>\n",
       "    </tr>\n",
       "    <tr>\n",
       "      <th>Io</th>\n",
       "      <td>4.703423e-09</td>\n",
       "      <td>3643.0</td>\n",
       "      <td>NaN</td>\n",
       "      <td>89.300</td>\n",
       "      <td>NaN</td>\n",
       "      <td>1.898617e+10</td>\n",
       "    </tr>\n",
       "  </tbody>\n",
       "</table>\n",
       "</div>"
      ],
      "text/plain": [
       "               density  diameter  gravity      mass   period        volume\n",
       "Mercury            NaN    4879.0      3.7     0.330     88.0           NaN\n",
       "Venus              NaN   12104.0      8.9     4.870    224.7           NaN\n",
       "Earth              NaN   12756.0      9.8     5.970    365.2           NaN\n",
       "Mars               NaN    6792.0      3.7     0.642    687.0           NaN\n",
       "Jupiter            NaN  142984.0     23.1  1898.000   4331.0           NaN\n",
       "Saturn             NaN  120536.0      9.0   568.000  10747.0           NaN\n",
       "Uranus             NaN   51118.0      8.7    86.800  30589.0           NaN\n",
       "Neptune            NaN   49528.0     11.0   102.000  59800.0           NaN\n",
       "Callisto  2.445350e-09    4821.0      NaN   107.600      NaN  4.400188e+10\n",
       "Ganymede  2.590215e-09    5262.0      NaN   148.200      NaN  5.721533e+10\n",
       "Europa    4.016823e-09    3122.0      NaN    48.000      NaN  1.194974e+10\n",
       "Io        4.703423e-09    3643.0      NaN    89.300      NaN  1.898617e+10"
      ]
     },
     "execution_count": 42,
     "metadata": {},
     "output_type": "execute_result"
    }
   ],
   "source": [
    "pd.concat([planets, moons])"
   ]
  },
  {
   "cell_type": "markdown",
   "metadata": {
    "slideshow": {
     "slide_type": "slide"
    }
   },
   "source": [
    "# Join Dataframes\n",
    "\n",
    "You can also perform database-like merges and joins of dataframes to add additional columns."
   ]
  },
  {
   "cell_type": "code",
   "execution_count": 43,
   "metadata": {},
   "outputs": [
    {
     "data": {
      "text/html": [
       "<div>\n",
       "<table border=\"1\" class=\"dataframe\">\n",
       "  <thead>\n",
       "    <tr style=\"text-align: right;\">\n",
       "      <th></th>\n",
       "      <th>period</th>\n",
       "    </tr>\n",
       "  </thead>\n",
       "  <tbody>\n",
       "    <tr>\n",
       "      <th>Callisto</th>\n",
       "      <td>16.68</td>\n",
       "    </tr>\n",
       "    <tr>\n",
       "      <th>Ganymede</th>\n",
       "      <td>7.15</td>\n",
       "    </tr>\n",
       "    <tr>\n",
       "      <th>Europa</th>\n",
       "      <td>3.55</td>\n",
       "    </tr>\n",
       "    <tr>\n",
       "      <th>Io</th>\n",
       "      <td>1.76</td>\n",
       "    </tr>\n",
       "  </tbody>\n",
       "</table>\n",
       "</div>"
      ],
      "text/plain": [
       "          period\n",
       "Callisto   16.68\n",
       "Ganymede    7.15\n",
       "Europa      3.55\n",
       "Io          1.76"
      ]
     },
     "execution_count": 43,
     "metadata": {},
     "output_type": "execute_result"
    }
   ],
   "source": [
    "moon_period = pd.DataFrame({'period':[16.68, 7.15, 3.55, 1.76]},\n",
    "                   index=['Callisto','Ganymede','Europa','Io'])\n",
    "moon_period\n"
   ]
  },
  {
   "cell_type": "code",
   "execution_count": 44,
   "metadata": {
    "slideshow": {
     "slide_type": "slide"
    }
   },
   "outputs": [
    {
     "data": {
      "text/html": [
       "<div>\n",
       "<table border=\"1\" class=\"dataframe\">\n",
       "  <thead>\n",
       "    <tr style=\"text-align: right;\">\n",
       "      <th></th>\n",
       "      <th>diameter</th>\n",
       "      <th>mass</th>\n",
       "      <th>volume</th>\n",
       "      <th>density</th>\n",
       "      <th>period</th>\n",
       "    </tr>\n",
       "  </thead>\n",
       "  <tbody>\n",
       "    <tr>\n",
       "      <th>Callisto</th>\n",
       "      <td>4821</td>\n",
       "      <td>107.6</td>\n",
       "      <td>4.400188e+10</td>\n",
       "      <td>2.445350e-09</td>\n",
       "      <td>16.68</td>\n",
       "    </tr>\n",
       "    <tr>\n",
       "      <th>Ganymede</th>\n",
       "      <td>5262</td>\n",
       "      <td>148.2</td>\n",
       "      <td>5.721533e+10</td>\n",
       "      <td>2.590215e-09</td>\n",
       "      <td>7.15</td>\n",
       "    </tr>\n",
       "    <tr>\n",
       "      <th>Europa</th>\n",
       "      <td>3122</td>\n",
       "      <td>48.0</td>\n",
       "      <td>1.194974e+10</td>\n",
       "      <td>4.016823e-09</td>\n",
       "      <td>3.55</td>\n",
       "    </tr>\n",
       "    <tr>\n",
       "      <th>Io</th>\n",
       "      <td>3643</td>\n",
       "      <td>89.3</td>\n",
       "      <td>1.898617e+10</td>\n",
       "      <td>4.703423e-09</td>\n",
       "      <td>1.76</td>\n",
       "    </tr>\n",
       "  </tbody>\n",
       "</table>\n",
       "</div>"
      ],
      "text/plain": [
       "          diameter   mass        volume       density  period\n",
       "Callisto      4821  107.6  4.400188e+10  2.445350e-09   16.68\n",
       "Ganymede      5262  148.2  5.721533e+10  2.590215e-09    7.15\n",
       "Europa        3122   48.0  1.194974e+10  4.016823e-09    3.55\n",
       "Io            3643   89.3  1.898617e+10  4.703423e-09    1.76"
      ]
     },
     "execution_count": 44,
     "metadata": {},
     "output_type": "execute_result"
    }
   ],
   "source": [
    "moons.join(moon_period)"
   ]
  },
  {
   "cell_type": "markdown",
   "metadata": {
    "slideshow": {
     "slide_type": "slide"
    }
   },
   "source": [
    "# Pandas with non-numerical data\n",
    "\n",
    "The examples thus far have been with mostly tabular numerical data, but Pandas Dataframes also are powerful for data analysis of text based data and time series data. Most of the operations (index, grouping, filter, aggregation) are the same with non-numerical data, but I will highlight a few additional features for those types of data."
   ]
  },
  {
   "cell_type": "markdown",
   "metadata": {
    "slideshow": {
     "slide_type": "slide"
    }
   },
   "source": [
    "# Text Based Data"
   ]
  },
  {
   "cell_type": "code",
   "execution_count": 45,
   "metadata": {},
   "outputs": [
    {
     "data": {
      "text/html": [
       "<div>\n",
       "<table border=\"1\" class=\"dataframe\">\n",
       "  <thead>\n",
       "    <tr style=\"text-align: right;\">\n",
       "      <th></th>\n",
       "      <th>Id</th>\n",
       "      <th>User</th>\n",
       "      <th>Group</th>\n",
       "      <th>Partition</th>\n",
       "      <th>MPI</th>\n",
       "      <th>Application</th>\n",
       "    </tr>\n",
       "  </thead>\n",
       "  <tbody>\n",
       "    <tr>\n",
       "      <th>0</th>\n",
       "      <td>10001</td>\n",
       "      <td>user1</td>\n",
       "      <td>group2</td>\n",
       "      <td>general</td>\n",
       "      <td>True</td>\n",
       "      <td>RAMSES</td>\n",
       "    </tr>\n",
       "    <tr>\n",
       "      <th>1</th>\n",
       "      <td>10002</td>\n",
       "      <td>user1</td>\n",
       "      <td>group2</td>\n",
       "      <td>general</td>\n",
       "      <td>True</td>\n",
       "      <td>Python</td>\n",
       "    </tr>\n",
       "    <tr>\n",
       "      <th>2</th>\n",
       "      <td>10003</td>\n",
       "      <td>user2</td>\n",
       "      <td>group1</td>\n",
       "      <td>general</td>\n",
       "      <td>True</td>\n",
       "      <td>Python</td>\n",
       "    </tr>\n",
       "    <tr>\n",
       "      <th>3</th>\n",
       "      <td>10004</td>\n",
       "      <td>user1</td>\n",
       "      <td>group2</td>\n",
       "      <td>private</td>\n",
       "      <td>False</td>\n",
       "      <td>SimpleQueue</td>\n",
       "    </tr>\n",
       "    <tr>\n",
       "      <th>4</th>\n",
       "      <td>10005</td>\n",
       "      <td>user3</td>\n",
       "      <td>group1</td>\n",
       "      <td>general</td>\n",
       "      <td>False</td>\n",
       "      <td>SimpleQueue</td>\n",
       "    </tr>\n",
       "    <tr>\n",
       "      <th>5</th>\n",
       "      <td>10006</td>\n",
       "      <td>user1</td>\n",
       "      <td>group2</td>\n",
       "      <td>general</td>\n",
       "      <td>False</td>\n",
       "      <td>SimpleQueue</td>\n",
       "    </tr>\n",
       "    <tr>\n",
       "      <th>6</th>\n",
       "      <td>10007</td>\n",
       "      <td>user4</td>\n",
       "      <td>group3</td>\n",
       "      <td>interactive</td>\n",
       "      <td>False</td>\n",
       "      <td>R</td>\n",
       "    </tr>\n",
       "    <tr>\n",
       "      <th>7</th>\n",
       "      <td>10008</td>\n",
       "      <td>user1</td>\n",
       "      <td>group2</td>\n",
       "      <td>interactive</td>\n",
       "      <td>False</td>\n",
       "      <td>R</td>\n",
       "    </tr>\n",
       "    <tr>\n",
       "      <th>8</th>\n",
       "      <td>10009</td>\n",
       "      <td>user5</td>\n",
       "      <td>group3</td>\n",
       "      <td>general</td>\n",
       "      <td>True</td>\n",
       "      <td>RAMSES</td>\n",
       "    </tr>\n",
       "    <tr>\n",
       "      <th>9</th>\n",
       "      <td>10010</td>\n",
       "      <td>user6</td>\n",
       "      <td>group3</td>\n",
       "      <td>private</td>\n",
       "      <td>False</td>\n",
       "      <td>Matlab</td>\n",
       "    </tr>\n",
       "    <tr>\n",
       "      <th>10</th>\n",
       "      <td>10011</td>\n",
       "      <td>user1</td>\n",
       "      <td>group2</td>\n",
       "      <td>private</td>\n",
       "      <td>False</td>\n",
       "      <td>Python</td>\n",
       "    </tr>\n",
       "    <tr>\n",
       "      <th>11</th>\n",
       "      <td>10012</td>\n",
       "      <td>user4</td>\n",
       "      <td>group3</td>\n",
       "      <td>general</td>\n",
       "      <td>True</td>\n",
       "      <td>Matlab</td>\n",
       "    </tr>\n",
       "    <tr>\n",
       "      <th>12</th>\n",
       "      <td>10013</td>\n",
       "      <td>user1</td>\n",
       "      <td>group2</td>\n",
       "      <td>general</td>\n",
       "      <td>False</td>\n",
       "      <td>R</td>\n",
       "    </tr>\n",
       "    <tr>\n",
       "      <th>13</th>\n",
       "      <td>10014</td>\n",
       "      <td>user2</td>\n",
       "      <td>group1</td>\n",
       "      <td>general</td>\n",
       "      <td>True</td>\n",
       "      <td>R</td>\n",
       "    </tr>\n",
       "  </tbody>\n",
       "</table>\n",
       "</div>"
      ],
      "text/plain": [
       "       Id   User   Group    Partition    MPI  Application\n",
       "0   10001  user1  group2      general   True       RAMSES\n",
       "1   10002  user1  group2      general   True       Python\n",
       "2   10003  user2  group1      general   True       Python\n",
       "3   10004  user1  group2      private  False  SimpleQueue\n",
       "4   10005  user3  group1      general  False  SimpleQueue\n",
       "5   10006  user1  group2      general  False  SimpleQueue\n",
       "6   10007  user4  group3  interactive  False            R\n",
       "7   10008  user1  group2  interactive  False            R\n",
       "8   10009  user5  group3      general   True       RAMSES\n",
       "9   10010  user6  group3      private  False       Matlab\n",
       "10  10011  user1  group2      private  False       Python\n",
       "11  10012  user4  group3      general   True       Matlab\n",
       "12  10013  user1  group2      general  False            R\n",
       "13  10014  user2  group1      general   True            R"
      ]
     },
     "execution_count": 45,
     "metadata": {},
     "output_type": "execute_result"
    }
   ],
   "source": [
    "jobs = pd.read_csv('jobs.csv')\n",
    "jobs"
   ]
  },
  {
   "cell_type": "code",
   "execution_count": 46,
   "metadata": {
    "slideshow": {
     "slide_type": "slide"
    }
   },
   "outputs": [
    {
     "data": {
      "text/plain": [
       "R              4\n",
       "SimpleQueue    3\n",
       "Python         3\n",
       "Matlab         2\n",
       "RAMSES         2\n",
       "Name: Application, dtype: int64"
      ]
     },
     "execution_count": 46,
     "metadata": {},
     "output_type": "execute_result"
    }
   ],
   "source": [
    "jobs['Application'].value_counts()"
   ]
  },
  {
   "cell_type": "code",
   "execution_count": 47,
   "metadata": {
    "slideshow": {
     "slide_type": "fragment"
    }
   },
   "outputs": [
    {
     "data": {
      "text/plain": [
       "group2    0.285714\n",
       "group3    0.500000\n",
       "group1    0.666667\n",
       "Name: Group, dtype: float64"
      ]
     },
     "execution_count": 47,
     "metadata": {},
     "output_type": "execute_result"
    }
   ],
   "source": [
    "jobs[jobs['MPI']]['Group'].value_counts()/jobs['Group'].value_counts()"
   ]
  },
  {
   "cell_type": "markdown",
   "metadata": {
    "slideshow": {
     "slide_type": "slide"
    }
   },
   "source": [
    "# Time Series Data\n",
    "\n",
    "Pandas has a whole set of special features for time series data. I recommend checking out their documentation for a more full description: https://pandas.pydata.org/pandas-docs/stable/timeseries.html"
   ]
  },
  {
   "cell_type": "code",
   "execution_count": 48,
   "metadata": {
    "slideshow": {
     "slide_type": "-"
    }
   },
   "outputs": [
    {
     "data": {
      "text/plain": [
       "2011-01-01 00:00:00   -0.386940\n",
       "2011-01-01 01:00:00    0.124884\n",
       "2011-01-01 02:00:00   -1.332854\n",
       "2011-01-01 03:00:00   -0.980495\n",
       "2011-01-01 04:00:00    0.519787\n",
       "Freq: H, dtype: float64"
      ]
     },
     "execution_count": 48,
     "metadata": {},
     "output_type": "execute_result"
    }
   ],
   "source": [
    "rng = pd.date_range('1/1/2011', periods=72, freq='H')\n",
    "ts = pd.Series(np.random.randn(len(rng)), index=rng)\n",
    "ts.head()"
   ]
  },
  {
   "cell_type": "markdown",
   "metadata": {
    "slideshow": {
     "slide_type": "slide"
    }
   },
   "source": [
    "## Indexing with ranges"
   ]
  },
  {
   "cell_type": "code",
   "execution_count": 49,
   "metadata": {
    "slideshow": {
     "slide_type": "fragment"
    }
   },
   "outputs": [
    {
     "data": {
      "text/plain": [
       "2011-01-01 23:00:00    0.391527\n",
       "2011-01-02 00:00:00   -0.333546\n",
       "2011-01-02 01:00:00   -1.278232\n",
       "2011-01-02 02:00:00    0.171583\n",
       "2011-01-02 03:00:00   -2.767893\n",
       "2011-01-02 04:00:00    1.418435\n",
       "Freq: H, dtype: float64"
      ]
     },
     "execution_count": 49,
     "metadata": {},
     "output_type": "execute_result"
    }
   ],
   "source": [
    "ts['1/1/2011 23:00:00':'1/2/2011  4:30:00']"
   ]
  },
  {
   "cell_type": "markdown",
   "metadata": {
    "slideshow": {
     "slide_type": "slide"
    }
   },
   "source": [
    "## Change frequency and fill gaps"
   ]
  },
  {
   "cell_type": "code",
   "execution_count": 50,
   "metadata": {
    "slideshow": {
     "slide_type": "fragment"
    }
   },
   "outputs": [
    {
     "data": {
      "text/plain": [
       "2011-01-01 00:00:00   -0.386940\n",
       "2011-01-01 00:45:00   -0.386940\n",
       "2011-01-01 01:30:00    0.124884\n",
       "2011-01-01 02:15:00   -1.332854\n",
       "2011-01-01 03:00:00   -0.980495\n",
       "Freq: 45T, dtype: float64"
      ]
     },
     "execution_count": 50,
     "metadata": {},
     "output_type": "execute_result"
    }
   ],
   "source": [
    "# to 45 minute frequency and forward fill\n",
    "converted = ts.asfreq('45Min', method='pad')\n",
    "converted.head()"
   ]
  },
  {
   "cell_type": "markdown",
   "metadata": {
    "slideshow": {
     "slide_type": "fragment"
    }
   },
   "source": [
    "All these operations can also be performed using timestamps (i.e. also include a time of day), period of time and epochs."
   ]
  },
  {
   "cell_type": "markdown",
   "metadata": {
    "slideshow": {
     "slide_type": "slide"
    }
   },
   "source": [
    "# Interesting Caveats about Dataframes"
   ]
  },
  {
   "cell_type": "markdown",
   "metadata": {
    "slideshow": {
     "slide_type": "fragment"
    }
   },
   "source": [
    "## Data is shared between Data Frame and ND-array"
   ]
  },
  {
   "cell_type": "code",
   "execution_count": 51,
   "metadata": {},
   "outputs": [
    {
     "data": {
      "text/html": [
       "<div>\n",
       "<table border=\"1\" class=\"dataframe\">\n",
       "  <thead>\n",
       "    <tr style=\"text-align: right;\">\n",
       "      <th></th>\n",
       "      <th>a</th>\n",
       "      <th>b</th>\n",
       "      <th>c</th>\n",
       "    </tr>\n",
       "  </thead>\n",
       "  <tbody>\n",
       "    <tr>\n",
       "      <th>A</th>\n",
       "      <td>0.699746</td>\n",
       "      <td>0.342727</td>\n",
       "      <td>0.376917</td>\n",
       "    </tr>\n",
       "    <tr>\n",
       "      <th>B</th>\n",
       "      <td>0.671467</td>\n",
       "      <td>0.270661</td>\n",
       "      <td>0.536337</td>\n",
       "    </tr>\n",
       "    <tr>\n",
       "      <th>C</th>\n",
       "      <td>0.136077</td>\n",
       "      <td>0.741803</td>\n",
       "      <td>0.971883</td>\n",
       "    </tr>\n",
       "    <tr>\n",
       "      <th>D</th>\n",
       "      <td>0.080890</td>\n",
       "      <td>0.657607</td>\n",
       "      <td>0.623919</td>\n",
       "    </tr>\n",
       "    <tr>\n",
       "      <th>E</th>\n",
       "      <td>0.875779</td>\n",
       "      <td>0.424093</td>\n",
       "      <td>0.502170</td>\n",
       "    </tr>\n",
       "  </tbody>\n",
       "</table>\n",
       "</div>"
      ],
      "text/plain": [
       "          a         b         c\n",
       "A  0.699746  0.342727  0.376917\n",
       "B  0.671467  0.270661  0.536337\n",
       "C  0.136077  0.741803  0.971883\n",
       "D  0.080890  0.657607  0.623919\n",
       "E  0.875779  0.424093  0.502170"
      ]
     },
     "execution_count": 51,
     "metadata": {},
     "output_type": "execute_result"
    }
   ],
   "source": [
    "m = np.random.rand(5,3)\n",
    "df = pd.DataFrame(m, \n",
    "                  columns=['a', 'b', 'c'],\n",
    "                  index=['A','B','C','D','E'])\n",
    "df"
   ]
  },
  {
   "cell_type": "code",
   "execution_count": 52,
   "metadata": {
    "scrolled": true,
    "slideshow": {
     "slide_type": "slide"
    }
   },
   "outputs": [
    {
     "data": {
      "text/html": [
       "<div>\n",
       "<table border=\"1\" class=\"dataframe\">\n",
       "  <thead>\n",
       "    <tr style=\"text-align: right;\">\n",
       "      <th></th>\n",
       "      <th>a</th>\n",
       "      <th>b</th>\n",
       "      <th>c</th>\n",
       "    </tr>\n",
       "  </thead>\n",
       "  <tbody>\n",
       "    <tr>\n",
       "      <th>A</th>\n",
       "      <td>10.000000</td>\n",
       "      <td>0.342727</td>\n",
       "      <td>0.376917</td>\n",
       "    </tr>\n",
       "    <tr>\n",
       "      <th>B</th>\n",
       "      <td>0.671467</td>\n",
       "      <td>0.270661</td>\n",
       "      <td>0.536337</td>\n",
       "    </tr>\n",
       "    <tr>\n",
       "      <th>C</th>\n",
       "      <td>0.136077</td>\n",
       "      <td>0.741803</td>\n",
       "      <td>0.971883</td>\n",
       "    </tr>\n",
       "    <tr>\n",
       "      <th>D</th>\n",
       "      <td>0.080890</td>\n",
       "      <td>0.657607</td>\n",
       "      <td>0.623919</td>\n",
       "    </tr>\n",
       "    <tr>\n",
       "      <th>E</th>\n",
       "      <td>0.875779</td>\n",
       "      <td>0.424093</td>\n",
       "      <td>0.502170</td>\n",
       "    </tr>\n",
       "  </tbody>\n",
       "</table>\n",
       "</div>"
      ],
      "text/plain": [
       "           a         b         c\n",
       "A  10.000000  0.342727  0.376917\n",
       "B   0.671467  0.270661  0.536337\n",
       "C   0.136077  0.741803  0.971883\n",
       "D   0.080890  0.657607  0.623919\n",
       "E   0.875779  0.424093  0.502170"
      ]
     },
     "execution_count": 52,
     "metadata": {},
     "output_type": "execute_result"
    }
   ],
   "source": [
    "m[0,0] = 10.0\n",
    "df"
   ]
  },
  {
   "cell_type": "markdown",
   "metadata": {
    "slideshow": {
     "slide_type": "slide"
    }
   },
   "source": [
    "## Some methods create new Data Frames"
   ]
  },
  {
   "cell_type": "code",
   "execution_count": 53,
   "metadata": {
    "collapsed": true
   },
   "outputs": [],
   "source": [
    "# add new column\n",
    "df = df.assign(d=np.abs(df['c']))"
   ]
  },
  {
   "cell_type": "code",
   "execution_count": 54,
   "metadata": {
    "slideshow": {
     "slide_type": "fragment"
    }
   },
   "outputs": [
    {
     "data": {
      "text/html": [
       "<div>\n",
       "<table border=\"1\" class=\"dataframe\">\n",
       "  <thead>\n",
       "    <tr style=\"text-align: right;\">\n",
       "      <th></th>\n",
       "      <th>a</th>\n",
       "      <th>b</th>\n",
       "      <th>c</th>\n",
       "      <th>d</th>\n",
       "    </tr>\n",
       "  </thead>\n",
       "  <tbody>\n",
       "    <tr>\n",
       "      <th>A</th>\n",
       "      <td>10.000000</td>\n",
       "      <td>0.342727</td>\n",
       "      <td>0.376917</td>\n",
       "      <td>0.376917</td>\n",
       "    </tr>\n",
       "    <tr>\n",
       "      <th>B</th>\n",
       "      <td>0.671467</td>\n",
       "      <td>0.270661</td>\n",
       "      <td>0.536337</td>\n",
       "      <td>0.536337</td>\n",
       "    </tr>\n",
       "    <tr>\n",
       "      <th>C</th>\n",
       "      <td>0.136077</td>\n",
       "      <td>0.741803</td>\n",
       "      <td>0.971883</td>\n",
       "      <td>0.971883</td>\n",
       "    </tr>\n",
       "    <tr>\n",
       "      <th>D</th>\n",
       "      <td>0.080890</td>\n",
       "      <td>0.657607</td>\n",
       "      <td>0.623919</td>\n",
       "      <td>0.623919</td>\n",
       "    </tr>\n",
       "    <tr>\n",
       "      <th>E</th>\n",
       "      <td>0.875779</td>\n",
       "      <td>0.424093</td>\n",
       "      <td>0.502170</td>\n",
       "      <td>0.502170</td>\n",
       "    </tr>\n",
       "  </tbody>\n",
       "</table>\n",
       "</div>"
      ],
      "text/plain": [
       "           a         b         c         d\n",
       "A  10.000000  0.342727  0.376917  0.376917\n",
       "B   0.671467  0.270661  0.536337  0.536337\n",
       "C   0.136077  0.741803  0.971883  0.971883\n",
       "D   0.080890  0.657607  0.623919  0.623919\n",
       "E   0.875779  0.424093  0.502170  0.502170"
      ]
     },
     "execution_count": 54,
     "metadata": {},
     "output_type": "execute_result"
    }
   ],
   "source": [
    "# df has not changed\n",
    "df"
   ]
  }
 ],
 "metadata": {
  "anaconda-cloud": {},
  "celltoolbar": "Slideshow",
  "kernelspec": {
   "display_name": "Python 3",
   "language": "python",
   "name": "python3"
  },
  "language_info": {
   "codemirror_mode": {
    "name": "ipython",
    "version": 3
   },
   "file_extension": ".py",
   "mimetype": "text/x-python",
   "name": "python",
   "nbconvert_exporter": "python",
   "pygments_lexer": "ipython3",
   "version": "3.7.6"
  }
 },
 "nbformat": 4,
 "nbformat_minor": 1
}
